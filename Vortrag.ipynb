{
 "cells": [
  {
   "cell_type": "markdown",
   "metadata": {
    "slideshow": {
     "slide_type": "slide"
    }
   },
   "source": [
    "<img src=\"http://imgs.xkcd.com/comics/python.png\"/>"
   ]
  },
  {
   "cell_type": "markdown",
   "metadata": {
    "slideshow": {
     "slide_type": "slide"
    }
   },
   "source": [
    "## Was macht Python so cool?\n",
    "\n",
    "* Elegant\n",
    "  * Es wird viel Wert auf gut aussehenden und verständlichen Code gelegt, \"Pythonic\"\n",
    "  * Zum Optimieren muss man Code oft schöner machen, nicht hässlicher\n",
    "  * Python ist in sich extrem konsistent\n",
    "  * Ein paar Grundprinzipien reichen, um 99% der Sprache zu beherrschen\n",
    "* Gigantische Verfügbarkeit von Libraries (fast auf Java-Niveau)\n",
    "  * Multi-Paradigma\n",
    "    * Imperativ\n",
    "    * OOP + AOP\n",
    "    * Funktional\n",
    "  * Dynamic, strongly typed\n",
    "  * “Language for consenting adults”\n",
    "  * Benannt nach “Monty Python”<br/>\n",
    "    (“Programming should be fun”)\n"
   ]
  },
  {
   "cell_type": "markdown",
   "metadata": {
    "collapsed": true,
    "slideshow": {
     "slide_type": "slide"
    }
   },
   "source": [
    "## Wer nutzt Python?\n",
    "\n",
    "-   Google (große Teile des Spiders und der Suchengine)<br/>\n",
    "    “Python where we can, C++ where we must”\n",
    "-   YouTube\n",
    "-   Spotify\n",
    "-   DropBox\n",
    "-   Pinterest\n",
    "-   Yelp\n",
    "-   Slideshare\n",
    "-   Yahoo Maps\n",
    "-   Reddit\n",
    "-   Mozilla<br/>\n",
    "    Firefox Sync Server, `support.mozilla.com`, `addons.mozilla.com`\n",
    "-   bitly\n",
    "-   OpenStack\n",
    "-   allgemein sehr verbreitet im Forschungs- und Finanzbereich (ML, Data analysis)"
   ]
  },
  {
   "cell_type": "markdown",
   "metadata": {
    "slideshow": {
     "slide_type": "slide"
    }
   },
   "source": [
    "## The Zen of Python\n",
    "### by Tim Peters\n",
    "\n",
    "Beautiful is better than ugly.\n",
    "\n",
    "Explicit is better than implicit.\n",
    "\n",
    "Simple is better than complex.\n",
    "\n",
    "Complex is better than complicated.\n",
    "\n",
    "Flat is better than nested.\n",
    "\n",
    "Sparse is better than dense.\n"
   ]
  },
  {
   "cell_type": "markdown",
   "metadata": {
    "slideshow": {
     "slide_type": "notes"
    }
   },
   "source": [
    "* Tim Peters hat auch Timsort entwickelt\n",
    "* Special cases: No char class, kein besonderes verhalten von \\_\\_init\\_\\_\n",
    "* Practicality: chr(), ord()"
   ]
  },
  {
   "cell_type": "markdown",
   "metadata": {
    "slideshow": {
     "slide_type": "subslide"
    }
   },
   "source": [
    "Readability counts.\n",
    "\n",
    "Special cases aren't special enough to break the rules.\n",
    "\n",
    "Although practicality beats purity.\n",
    "\n",
    "Errors should never pass silently.\n",
    "\n",
    "Unless explicitly silenced.\n",
    "\n",
    "In the face of ambiguity, refuse the temptation to guess."
   ]
  },
  {
   "cell_type": "markdown",
   "metadata": {
    "slideshow": {
     "slide_type": "subslide"
    }
   },
   "source": [
    "There should be one—and preferably only one—obvious way to do it.\n",
    "\n",
    "Although that way may not be obvious at first unless you're Dutch.\n",
    "\n",
    "Now is better than never.\n",
    "\n",
    "Although never is often better than *right* now.\n",
    "\n",
    "If the implementation is hard to explain, it's a bad idea.\n",
    "\n",
    "If the implementation is easy to explain, it may be a good idea.\n",
    "\n",
    "Namespaces are one honking great idea — let's do more of those!"
   ]
  },
  {
   "cell_type": "markdown",
   "metadata": {
    "slideshow": {
     "slide_type": "notes"
    }
   },
   "source": [
    "  * \"There should be one way\" != OOP is always the best/functional is\n",
    "    always the best. Python is multi-paradigm"
   ]
  },
  {
   "cell_type": "markdown",
   "metadata": {
    "slideshow": {
     "slide_type": "slide"
    }
   },
   "source": [
    "## Beautiful is better than ugly\n",
    "\n",
    "```python\n",
    "# ugly\n",
    "circle.setRadius(circle.getRadius() * 1.2)\n",
    "\n",
    "# better\n",
    "circle.radius *= 1.2\n",
    "\n",
    "# ugly\n",
    "json.dumps(\n",
    "    {\"foo\": \"bar\", \"bar\": \"foo\"}, False, False,\n",
    "    True, True, None, None, \n",
    "    None, None, True)\n",
    "\n",
    "# better\n",
    "json.dumps({\"foo\": \"bar\", \"bar\": \"foo\"}, sort_keys=True)\n",
    "\n",
    "```\n",
    "\n"
   ]
  },
  {
   "cell_type": "code",
   "execution_count": 7,
   "metadata": {
    "collapsed": false,
    "slideshow": {
     "slide_type": "slide"
    }
   },
   "outputs": [
    {
     "data": {
      "text/plain": [
       "{'city': 'Hamburg',\n",
       " 'country': 'DE',\n",
       " 'hostname': 'x55b1e3fa.dyn.telefonica.de',\n",
       " 'ip': '85.177.227.250',\n",
       " 'loc': '53.5886,10.0483',\n",
       " 'org': 'AS13184 Telefonica Germany GmbH & Co.OHG',\n",
       " 'postal': '22305',\n",
       " 'region': 'Hamburg'}"
      ]
     },
     "execution_count": 7,
     "metadata": {},
     "output_type": "execute_result"
    }
   ],
   "source": [
    "import requests\n",
    "requests.get('http://ipinfo.io/json').json()"
   ]
  },
  {
   "cell_type": "code",
   "execution_count": 15,
   "metadata": {
    "collapsed": false,
    "slideshow": {
     "slide_type": "subslide"
    }
   },
   "outputs": [
    {
     "data": {
      "text/plain": [
       "{'args': {},\n",
       " 'data': '{\"key\": \"value\"}',\n",
       " 'files': {},\n",
       " 'form': {},\n",
       " 'headers': {'Accept': '*/*',\n",
       "  'Accept-Encoding': 'gzip, deflate',\n",
       "  'Content-Length': '16',\n",
       "  'Content-Type': 'application/json',\n",
       "  'Host': 'httpbin.org',\n",
       "  'User-Agent': 'python-requests/2.8.1'},\n",
       " 'json': {'key': 'value'},\n",
       " 'origin': '85.177.227.250',\n",
       " 'url': 'http://httpbin.org/post'}"
      ]
     },
     "execution_count": 15,
     "metadata": {},
     "output_type": "execute_result"
    }
   ],
   "source": [
    "res = requests.post(\"http://httpbin.org/post\", json={\"key\": \"value\"})\n",
    "res.json()"
   ]
  },
  {
   "cell_type": "code",
   "execution_count": 24,
   "metadata": {
    "collapsed": false,
    "slideshow": {
     "slide_type": "subslide"
    }
   },
   "outputs": [
    {
     "data": {
      "text/plain": [
       "[<Response [302]>]"
      ]
     },
     "execution_count": 24,
     "metadata": {},
     "output_type": "execute_result"
    }
   ],
   "source": [
    "res = requests.get(\"http://inoio.de\")\n",
    "res.history"
   ]
  },
  {
   "cell_type": "code",
   "execution_count": 25,
   "metadata": {
    "collapsed": false,
    "scrolled": true
   },
   "outputs": [
    {
     "data": {
      "text/plain": [
       "{'Last-Modified': 'Fri, 16 Oct 2015 15:42:42 GMT', 'Vary': 'Accept-Encoding', 'Cache-Control': 'max-age=86400, public', 'Content-Type': 'text/html; charset=utf-8', 'Expires': 'Fri, 06 Nov 2015 17:44:14 GMT', 'Date': 'Thu, 05 Nov 2015 17:44:14 GMT', 'Server': 'nginx', 'Transfer-Encoding': 'chunked', 'Content-Encoding': 'gzip', 'Connection': 'keep-alive'}"
      ]
     },
     "execution_count": 25,
     "metadata": {},
     "output_type": "execute_result"
    }
   ],
   "source": [
    "res.headers"
   ]
  },
  {
   "cell_type": "code",
   "execution_count": 11,
   "metadata": {
    "collapsed": false
   },
   "outputs": [
    {
     "data": {
      "text/plain": [
       "b'\\n<!DOCTYPE html>\\n<!--[if IEMobile 7 ]><html class=\"no-js iem7\"><![endif]-->\\n<!--[if lt IE 9]><html class=\"no-js lte-ie8\"><![endif]-->\\n<!--[if (gt IE 8)|(gt IEMobile 7)|!(IEMobile)|!(IE)]><!--><html class=\"no-js\"><!--<![endif]-->\\n<head>\\n  <meta charset=\"utf-8\">\\n  <title>inoio gmbh</title>\\n  <meta name=\"author\" content=\"inoio gmbh\">\\n\\n  <!-- Use the .htaccess and remove these lines to avoid edge case issues.More info: h5bp.com/b/378 -->\\n  <meta http-equiv=\"X-UA-Compatible\" content=\"IE=edge,chrome=1\">\\n\\n  \\n  <meta name=\"description\" content=\"Was wir machen? Die inoio gmbh ist ein Unternehmen f\\xc3\\xbcr Softwareentwicklung und Software-Projektberatung. Wir \\xc3\\xbcbernehmen komplette Projekte: von der &hellip;\">\\n  \\n\\n  <!-- http://t.co/dKP3o1e -->\\n  <meta name=\"HandheldFriendly\" content=\"True\">\\n  <meta name=\"MobileOptimized\" content=\"320\">\\n  <meta name=\"viewport\" content=\"width=device-width, initial-scale=1\">\\n\\n  <meta name=\"pinterest\" content=\"nopin\" />\\n  <meta name=\"apple-mobile-web-app-capable\" content=\"no\">\\n\\n  \\n  <link rel=\"canonical\" href=\"http://www.inoio.de/\">\\n  <script src=\"/javascripts/modernizr-2.0.js\"></script>\\n  <script src=\"/javascripts/ender.js\"></script>\\n  <script src=\"/javascripts/octopress.js\"></script>\\n  <link href=\"/atom.xml\" rel=\"alternate\" title=\"inoio gmbh\" type=\"application/atom+xml\">\\n  \\n  <link href=\"/stylesheets/bootstrap.css\" rel=\"stylesheet\">\\n  <link href=\"/stylesheets/bootstrap-responsive.css\" rel=\"stylesheet\"><!-- laut ole -->\\n  <link href=\"/stylesheets/inoio.css\" rel=\"stylesheet\">\\n  <link href=\"/stylesheets/syntax.css\" rel=\"stylesheet\">\\n\\n  <!-- Le HTML5 shim, for IE6-8 support of HTML5 elements -->\\n  <!--[if lt IE 9]>\\n  <script src=\"http://html5shim.googlecode.com/svn/trunk/html5.js\"></script>\\n  <![endif]-->\\n\\n  <link rel=\"shortcut icon\" href=\"/favicon.ico\" type=\"image/x-icon\">\\n  <link rel=\"icon\" href=\"/favicon.ico\" type=\"image/x-icon\">\\n  <link rel=\"apple-touch-icon-precomposed\" sizes=\"144x144\" href=\"/apple-touch-icon-144-precomposed.png\">\\n  <link rel=\"apple-touch-icon-precomposed\" sizes=\"114x114\" href=\"/apple-touch-icon-114-precomposed.png\">\\n  <link rel=\"apple-touch-icon-precomposed\" sizes=\"72x72\" href=\"/apple-touch-icon-72-precomposed.png\">\\n  <link rel=\"apple-touch-icon-precomposed\" href=\"/apple-touch-icon-57-precomposed.png\">\\n  <script src=\"/javascripts/jquery.js\"></script>\\n\\n  <!--Fonts from Google\"s Web font directory at http://google.com/webfonts -->\\n<link href=\"http://fonts.googleapis.com/css?family=PT+Serif:regular,italic,bold,bolditalic\" rel=\"stylesheet\" type=\"text/css\">\\n<link href=\"http://fonts.googleapis.com/css?family=PT+Sans:regular,italic,bold,bolditalic\" rel=\"stylesheet\" type=\"text/css\">\\n\\n<script type=\"text/javascript\">\\n  jQuery.noConflict();\\n</script>\\n\\n  \\n  <script type=\"text/javascript\">\\n    var _gaq = _gaq || [];\\n    _gaq.push([\\'_setAccount\\', \\'UA-30397026-1\\']);\\n    _gaq.push([\\'_trackPageview\\']);\\n\\n    (function() {\\n      var ga = document.createElement(\\'script\\'); ga.type = \\'text/javascript\\'; ga.async = true;\\n      ga.src = (\\'https:\\' == document.location.protocol ? \\'https://ssl\\' : \\'http://www\\') + \\'.google-analytics.com/ga.js\\';\\n      var s = document.getElementsByTagName(\\'script\\')[0]; s.parentNode.insertBefore(ga, s);\\n    })();\\n  </script>\\n\\n\\n</head>\\n\\n<body id=\"index\"   class=\"no-sidebar container-fluid\"  >\\n  <header role=\"banner\" class=\"clearfix\"><hgroup id=\"logo\">\\n  <h1 class=\"hidden\"><a href=\"/\">inoio gmbh</a></h1>\\n  <a href=\"/\" title=\"inoio homepage\" name=\"index\">\\n    <div id=\"header_logo\" alt=\"inoio Logo\"></div>\\n  </a>\\n  \\n</hgroup>\\n\\n\\n    <!--\\n<ul class=\"subscription\" data-subscription=\"rss\">\\n  <li><a href=\"/atom.xml\" rel=\"subscribe-rss\" title=\"subscribe via RSS\">RSS</a></li>\\n  \\n</ul>\\n  \\n<form action=\"http://google.com/search\" method=\"get\">\\n  <fieldset role=\"search\">\\n    <input type=\"hidden\" name=\"q\" value=\"site:www.inoio.de\" />\\n    <input class=\"search\" type=\"text\" name=\"q\" results=\"0\" placeholder=\"Search\"/>\\n  </fieldset>\\n</form>\\n  \\n-->\\n<!-- Mobile nav  Drop-down--><!-- seo urls -->\\n<form id=\"mobile_nav\">\\n    <fieldset>\\n        <select>\\n            <option value=\"\">Navigation</option>\\n            <!--\\n            <option value=\"/inoio-company.html\">\\xc3\\xbcber uns</option>\\n            <option value=\"/projekte.html\">projekte</option>\\n            <option value=\"/team.html\">team</option>\\n            -->\\n            <option value=\"/services.html\">leistungen</option>\\n            <option value=\"/references.html\">referenzen</option>\\n            <option value=\"/imprint.html\">kontakt</option>\\n            <option value=\"/jobs.html\">jobs</option>\\n            <option value=\"/blog\">blog</option>\\n        </select>\\n    </fieldset>\\n</form>\\n<script>\\n    $(\\'#mobile_nav\\').children(\\'select\\').bind(\\'change\\', function(event) {\\n        if (event.target.value) {\\n            console.log(\"event: \" + event.target.value);\\n            window.location.href = event.target.value;\\n        }\\n    });\\n    var active = $(\\'#mobile_nav\\').children(\\'select\\').find(\\'[value*=\"\\' + window.location.pathname + \\'\"]\\');\\n    if(active && active.length == 1) {\\n        active[0].selected = true;\\n    }\\n</script>\\n\\n<nav id=\"primary_nav\" role=\"navigation\">\\n    <ul class=\"unstyled\">\\n        <!-- Desktop nav   .nav-collapse\\n             - wird von bootstrap nicht automatisch wie gew\\xc3\\xbcnscht ausgeblendet   -->\\n        <li><a href=\"/blog\">blog</a></li>\\n        <li><a href=\"/jobs.html\">jobs</a></li>\\n        <li><a href=\"/imprint.html\">kontakt</a></li>\\n        <li><a href=\"/references.html\">referenzen</a></li>\\n        <li><a href=\"/services.html\">leistungen</a></li>\\n        <!--\\n        <li><a href=\"/team.html\">team</a></li>\\n        <li><a href=\"/projekte.html\">projekte</a></li>\\n            //TODO: class active unterstreicht den aktiven Link\\n        <li><a href=\"/inoio-company.html\">\\xc3\\xbcber uns</a></li>\\n        -->\\n    </ul>\\n</nav>\\n\\n<div id=\"banner\" role=\"banner\">\\n    <div id=\"teaser\">\\n        <!-- im CSS   @media screen and (max-width:850px)  die max-width an h2-Breite anpassen -->\\n        <h2>Wir entwickeln f\\xc3\\xbcr Sie <br/>individuelle Softwarel\\xc3\\xb6sungen</h2>\\n        <h4>Innovative Webanwendungen, <br/>Softwareentwicklung aus Hamburg.</h4>\\n    </div>\\n    <div id=\"banner_img\"></div>\\n</div>\\n<noscript>\\n    <div class=\"jsHint\">\\n        Diese Webseite ben\\xc3\\xb6tigt Javascript. Bitte aktivieren Sie es in ihrem Browser.\\n    </div>\\n</noscript>\\n\\n\\n  </header>\\n  <div id=\"main\">\\n    <div id=\"content\" class=\"row-fluid\">\\n      <div>\\n<div role=\"main\">\\n  \\n  <div>\\n  <section>\\n    <h1>Was wir machen?</h1>\\n    <p>\\n      Die inoio gmbh ist ein Unternehmen f\\xc3\\xbcr Softwareentwicklung und Software-Projektberatung.\\n      Wir \\xc3\\xbcbernehmen komplette Projekte: von der Idee bis zum Launch und der Betreuung des laufenden Betriebes unterst\\xc3\\xbctzen wir Sie mit unserer Expertise.\\n    </p>\\n    <p>\\n      <br />\\n    </p>\\n    <p></p>\\n    <div class=\\'row-fluid\\'>\\n      <div class=\\'span6\\'>\\n        <div class=\\'row-fluid\\'>\\n          <div class=\\'span2\\'>\\n            <div class=\\'glyphs40 light\\'></div>\\n          </div>\\n          <div class=\\'span10\\'>\\n            <h4>Wir verstehen Sie!</h4>\\n            <p>\\n              Wir haben Spa\\xc3\\x9f daran, uns mit Ihrem Gesch\\xc3\\xa4ft und Abl\\xc3\\xa4ufen auseinanderzusetzen und es in f\\xc3\\xbcr Sie passende Softwarel\\xc3\\xb6sungen zu \\xc3\\xbcbersetzen.\\n              Ihre Vorstellungen und Bed\\xc3\\xbcrfnisse entscheiden \\xc3\\xbcber die eingesetzte Technologie.\\n              Wir bieten umfassende L\\xc3\\xb6sungen sowohl f\\xc3\\xbcr den Mittelstand als auch f\\xc3\\xbcr gro\\xc3\\x9fe Konzerne und Unternehmen.\\n            </p>\\n          </div>\\n        </div>\\n      </div>\\n      <div class=\\'span6\\'>\\n        <div class=\\'row-fluid\\'>\\n          <div class=\\'span2\\'>\\n            <div class=\\'glyphs40 target\\'></div>\\n          </div>\\n          <div class=\\'span10\\'>\\n            <h4>Softwareentwicklung ist unsere Leidenschaft</h4>\\n            <p>\\n              Aus unserer Leidenschaft resultiert ein ganz besonderes Engagement f\\xc3\\xbcr unsere Kunden.\\n              Wir freuen uns, wenn wir zusammen mit Ihnen an einer f\\xc3\\xbcr Sie optimalen L\\xc3\\xb6sung arbeiten k\\xc3\\xb6nnen.\\n              Transparenz, Zuverl\\xc3\\xa4ssigkeit und L\\xc3\\xb6sungsorientierung verstehen sich von selbst.\\n            </p>\\n          </div>\\n        </div>\\n      </div>\\n    </div>\\n    <div class=\\'row-fluid\\'>\\n      <div class=\\'span6\\'>\\n        <div class=\\'row-fluid\\'>\\n          <div class=\\'span2\\'>\\n            <div class=\\'glyphs40 trophy\\'></div>\\n          </div>\\n          <div class=\\'span10\\'>\\n            <h4>Hochwertige L\\xc3\\xb6sungen</h4>\\n            <p>\\n              Sie k\\xc3\\xb6nnen uns vertrauen, weil wir selbst f\\xc3\\xbcr die kniffligsten Produktideen und die gr\\xc3\\xb6\\xc3\\x9ften Herausforderungen solide und stabile L\\xc3\\xb6sungen finden.\\n              Wir sind \\xc3\\xbcberzeugt, dass mit agilen Methoden die besseren Produkte entwickelt werden. Wir schaffen ein Arbeitsumfeld, das Motivation, Innovation und Qualit\\xc3\\xa4t f\\xc3\\xb6rdert.\\n            </p>\\n          </div>\\n        </div>\\n      </div>\\n      <div class=\\'span6\\'>\\n        <div class=\\'row-fluid\\'>\\n          <div class=\\'span2\\'>\\n            <div class=\\'glyphs40 arrows\\'></div>\\n          </div>\\n          <div class=\\'span10\\'>\\n            <h4>Wir sind Spezialisten mit einer breiten Fachkompetenz</h4>\\n            <p>\\n              Einhergehend zur Entwicklung von Softwarel\\xc3\\xb6sungen bieten wir die entsprechende Technologieberatung von der Grundidee bis zum \\xe2\\x80\\x9egoing live\\xe2\\x80\\x9c und dem folgenden Betrieb und der Weiterentwicklung.\\n              Uns ist die enge Einbindung und kontinuierliche Abstimmung mit dem Kunden sehr wichtig. Sie erhalten dadurch die volle Einsicht in unsere Entwicklungsleistungen.\\n            </p>\\n          </div>\\n        </div>\\n      </div>\\n    </div>\\n  </section>\\n</div>\\n\\n  <div class=\"row-fluid\">\\n    <div class=\"span6\">\\n      <section>\\n  <h1>Letzte Blogposts</h1>\\n  <ul id=\"recent_posts\">\\n    \\n      <li class=\"post\">\\n        <a href=\"/blog/2015/07/31/mosh-ssh-with-roaming/\">Mosh: Mit SSH in der Bahn</a><div class=\"blog-author\">von Matthias Brandt</div>\\n      </li>\\n    \\n      <li class=\"post\">\\n        <a href=\"/blog/2015/06/13/type-class-101-category/\">Type Class 101: Category and Monads</a><div class=\"blog-author\">von Markus Klink</div>\\n      </li>\\n    \\n      <li class=\"post\">\\n        <a href=\"/blog/2015/03/20/safeguarding-destructive-functions-on-the-mongodb-shell/\">Safeguarding destructive functions on the MongoDB shell</a><div class=\"blog-author\">von Ole Langbehn</div>\\n      </li>\\n    \\n      <li class=\"post\">\\n        <a href=\"/blog/2014/12/13/how-to-log-slow-requests-with-play2/\">How to log slow async requests with Play Framework 2</a><div class=\"blog-author\">von Martin Grotzke</div>\\n      </li>\\n    \\n      <li class=\"post\">\\n        <a href=\"/blog/2014/11/10/type-class-101-applicativebuilder/\">Type Class 101: ApplicativeBuilder</a><div class=\"blog-author\">von Markus Klink</div>\\n      </li>\\n    \\n      <li class=\"post\">\\n        <a href=\"/blog/2014/09/20/technologie-sprung-bei-galeria-kaufhof/\">Jump - ein Technologie-Sprung bei Galeria Kaufhof</a><div class=\"blog-author\">von Martin Grotzke</div>\\n      </li>\\n    \\n      <li class=\"post\">\\n        <a href=\"/blog/2014/08/05/type-class-101-applicative/\">Type Class 101: Applicative</a><div class=\"blog-author\">von Markus Klink</div>\\n      </li>\\n    \\n      <li class=\"post\">\\n        <a href=\"/blog/2014/08/02/type-class-101-functor/\">Type Class 101: Functor</a><div class=\"blog-author\">von Markus Klink</div>\\n      </li>\\n    \\n      <li class=\"post\">\\n        <a href=\"/blog/2014/07/25/type-class-101-foldable/\">Type Class 101: Foldable</a><div class=\"blog-author\">von Markus Klink</div>\\n      </li>\\n    \\n      <li class=\"post\">\\n        <a href=\"/blog/2014/07/20/type-class-101-monoid/\">Type Class 101: Monoid</a><div class=\"blog-author\">von Markus Klink</div>\\n      </li>\\n    \\n  </ul>\\n</section>\\n\\n    </div>\\n    <div class=\"span6\">\\n      \\n        <a class=\"twitter-timeline\" href=\"https://twitter.com/inoio_gmbh\" data-widget-id=\"296734368033030145\">Tweets by @inoio_gmbh</a>\\n        <script>!function(d,s,id){var js,fjs=d.getElementsByTagName(s)[0];if(!d.getElementById(id)){js=d.createElement(s);js.id=id;js.src=\"//platform.twitter.com/widgets.js\";fjs.parentNode.insertBefore(js,fjs);}}(document,\"script\",\"twitter-wjs\");</script>\\n      \\n    </div>\\n  </div>\\n  <div style=\"padding-bottom: 0.6em;\"></div>\\n  \\n</div>\\n\\n</div>\\n\\n\\n    </div>\\n  </div>\\n  <footer role=\"contentinfo\"><footer id=\"page_footer\" role=\"contentinfo\">\\n    <nav id=\"meta_nav\" role=\"navigation\">\\n        <ul class=\"unstyled\">\\n            <li>\\n                <a href=\"/imprint.html\">Impressum</a>\\n            </li>\\n            <li>\\n                <a href=\"/imprint.html#datenschutz\">Datenschutz</a>\\n            </li>\\n            <li>\\n                &copy; 2015 - inoio gmbh\\n            </li>\\n        </ul>\\n    </nav>\\n</footer>\\n\\n</footer>\\n  \\n\\n\\n\\n\\n\\n\\n\\n  <script type=\"text/javascript\">\\n    (function(){\\n      var twitterWidgets = document.createElement(\\'script\\');\\n      twitterWidgets.type = \\'text/javascript\\';\\n      twitterWidgets.async = true;\\n      twitterWidgets.src = \\'http://platform.twitter.com/widgets.js\\';\\n      document.getElementsByTagName(\\'head\\')[0].appendChild(twitterWidgets);\\n    })();\\n  </script>\\n\\n\\n\\n<script src=\"/javascripts/inoio.js\"></script>\\n\\n\\n<!--[if lt IE 9]>\\n<script src=\"/javascripts/css3-mediaqueries.js\"></script>\\n<![endif]-->\\n\\n</body>\\n</html>\\n'"
      ]
     },
     "execution_count": 11,
     "metadata": {},
     "output_type": "execute_result"
    }
   ],
   "source": [
    "res.content"
   ]
  },
  {
   "cell_type": "code",
   "execution_count": 25,
   "metadata": {
    "collapsed": true,
    "slideshow": {
     "slide_type": "slide"
    }
   },
   "outputs": [],
   "source": [
    "import sympy\n",
    "sympy.init_printing()\n",
    "x, y = sympy.var(\"x y\")"
   ]
  },
  {
   "cell_type": "code",
   "execution_count": 28,
   "metadata": {
    "collapsed": false,
    "slideshow": {
     "slide_type": "slide"
    }
   },
   "outputs": [
    {
     "data": {
      "text/latex": [
       "$$3 x^{3} + 2 x^{2} - 4 y + 4$$"
      ],
      "text/plain": [
       "   3      2          \n",
       "3⋅x  + 2⋅x  - 4⋅y + 4"
      ]
     },
     "execution_count": 28,
     "metadata": {},
     "output_type": "execute_result"
    }
   ],
   "source": [
    "3 * x**3 + 2 * x**2 - 4 * y + 4"
   ]
  },
  {
   "cell_type": "code",
   "execution_count": 29,
   "metadata": {
    "collapsed": false
   },
   "outputs": [
    {
     "data": {
      "text/latex": [
       "$$\\frac{3 x^{4}}{4} + \\frac{2 x^{3}}{3} + x \\left(- 4 y + 4\\right)$$"
      ],
      "text/plain": [
       "   4      3               \n",
       "3⋅x    2⋅x                \n",
       "──── + ──── + x⋅(-4⋅y + 4)\n",
       " 4      3                 "
      ]
     },
     "execution_count": 29,
     "metadata": {},
     "output_type": "execute_result"
    }
   ],
   "source": [
    "sympy.integrate(_, x)"
   ]
  },
  {
   "cell_type": "code",
   "execution_count": 36,
   "metadata": {
    "collapsed": false
   },
   "outputs": [
    {
     "data": {
      "text/latex": [
       "$$\\left [ \\left \\{ x : \\frac{1}{25} + \\frac{4 \\sqrt{411}}{25}, \\quad y : - \\frac{8 \\sqrt{411}}{125} + \\frac{298}{125}\\right \\}, \\quad \\left \\{ x : - \\frac{4 \\sqrt{411}}{25} + \\frac{1}{25}, \\quad y : \\frac{8 \\sqrt{411}}{125} + \\frac{298}{125}\\right \\}\\right ]$$"
      ],
      "text/plain": [
       "⎡⎧            _____           _____      ⎫  ⎧         _____              _____\n",
       "⎢⎪   1    4⋅╲╱ 411        8⋅╲╱ 411    298⎪  ⎪     4⋅╲╱ 411    1      8⋅╲╱ 411 \n",
       "⎢⎨x: ── + ─────────, y: - ───────── + ───⎬, ⎨x: - ───────── + ──, y: ─────────\n",
       "⎢⎪   25       25             125      125⎪  ⎪         25      25        125   \n",
       "⎣⎩                                       ⎭  ⎩                                 \n",
       "\n",
       "      ⎫⎤\n",
       "   298⎪⎥\n",
       " + ───⎬⎥\n",
       "   125⎪⎥\n",
       "      ⎭⎦"
      ]
     },
     "execution_count": 36,
     "metadata": {},
     "output_type": "execute_result"
    }
   ],
   "source": [
    "sympy.solve([\n",
    "        2 * x + 5 * y - 12,\n",
    "        5 * x**2 + 1 * y - 55\n",
    "    ])"
   ]
  },
  {
   "cell_type": "markdown",
   "metadata": {
    "slideshow": {
     "slide_type": "slide"
    }
   },
   "source": [
    "## Simple Is Better Than Complex\n",
    "\n",
    "```python\n",
    "    if value is not None and value != '':  #complex\n",
    "\n",
    "\tif value: #simple\n",
    "```"
   ]
  },
  {
   "cell_type": "markdown",
   "metadata": {
    "slideshow": {
     "slide_type": "notes"
    }
   },
   "source": [
    " circle.radius != circle[\"radius\"]"
   ]
  },
  {
   "cell_type": "markdown",
   "metadata": {
    "slideshow": {
     "slide_type": "slide"
    }
   },
   "source": [
    "## Explicit is better than implicit"
   ]
  },
  {
   "cell_type": "code",
   "execution_count": 7,
   "metadata": {
    "collapsed": false
   },
   "outputs": [
    {
     "ename": "TypeError",
     "evalue": "Can't convert 'int' object to str implicitly",
     "output_type": "error",
     "traceback": [
      "\u001b[1;31m---------------------------------------------------------------------------\u001b[0m",
      "\u001b[1;31mTypeError\u001b[0m                                 Traceback (most recent call last)",
      "\u001b[1;32m<ipython-input-7-9a9c9d4aa796>\u001b[0m in \u001b[0;36m<module>\u001b[1;34m()\u001b[0m\n\u001b[0;32m      1\u001b[0m \u001b[0mi\u001b[0m \u001b[1;33m=\u001b[0m \u001b[1;36m42\u001b[0m\u001b[1;33m\u001b[0m\u001b[0m\n\u001b[1;32m----> 2\u001b[1;33m \u001b[0ms\u001b[0m \u001b[1;33m=\u001b[0m \u001b[1;34m\"Hallo\"\u001b[0m \u001b[1;33m+\u001b[0m \u001b[0mi\u001b[0m\u001b[1;33m\u001b[0m\u001b[0m\n\u001b[0m",
      "\u001b[1;31mTypeError\u001b[0m: Can't convert 'int' object to str implicitly"
     ]
    }
   ],
   "source": [
    "i = 42\n",
    "s = \"Hallo\" + i"
   ]
  },
  {
   "cell_type": "code",
   "execution_count": 1,
   "metadata": {
    "collapsed": false
   },
   "outputs": [
    {
     "ename": "TypeError",
     "evalue": "Can't convert 'NoneType' object to str implicitly",
     "output_type": "error",
     "traceback": [
      "\u001b[1;31m---------------------------------------------------------------------------\u001b[0m",
      "\u001b[1;31mTypeError\u001b[0m                                 Traceback (most recent call last)",
      "\u001b[1;32m<ipython-input-1-2b5bb0bbe578>\u001b[0m in \u001b[0;36m<module>\u001b[1;34m()\u001b[0m\n\u001b[1;32m----> 1\u001b[1;33m \u001b[0ms\u001b[0m \u001b[1;33m=\u001b[0m \u001b[1;34m\"Hallo\"\u001b[0m \u001b[1;33m+\u001b[0m \u001b[1;32mNone\u001b[0m\u001b[1;33m\u001b[0m\u001b[0m\n\u001b[0m",
      "\u001b[1;31mTypeError\u001b[0m: Can't convert 'NoneType' object to str implicitly"
     ]
    }
   ],
   "source": [
    "s = \"Hallo\" + None"
   ]
  },
  {
   "cell_type": "code",
   "execution_count": 3,
   "metadata": {
    "collapsed": false
   },
   "outputs": [
    {
     "name": "stdout",
     "output_type": "stream",
     "text": [
      "None\n"
     ]
    }
   ],
   "source": [
    "def ft():\n",
    "    return 42\n",
    "\n",
    "def foo():\n",
    "    ft()\n",
    "\n",
    "print(foo())"
   ]
  },
  {
   "cell_type": "code",
   "execution_count": 4,
   "metadata": {
    "collapsed": false,
    "slideshow": {
     "slide_type": "slide"
    }
   },
   "outputs": [
    {
     "data": {
      "text/plain": [
       "(1, 2, 3)"
      ]
     },
     "execution_count": 4,
     "metadata": {},
     "output_type": "execute_result"
    }
   ],
   "source": [
    "def foo(a, b, c):\n",
    "    return (a, b, c)\n",
    "\n",
    "foo(1, 2, 3)"
   ]
  },
  {
   "cell_type": "code",
   "execution_count": 5,
   "metadata": {
    "collapsed": false
   },
   "outputs": [
    {
     "data": {
      "text/plain": [
       "(1, 2, 3)"
      ]
     },
     "execution_count": 5,
     "metadata": {},
     "output_type": "execute_result"
    }
   ],
   "source": [
    "foo(b=2, a=1, c=3)"
   ]
  },
  {
   "cell_type": "code",
   "execution_count": 6,
   "metadata": {
    "collapsed": true,
    "slideshow": {
     "slide_type": "slide"
    }
   },
   "outputs": [],
   "source": [
    "class Spam:\n",
    "    def eggs(self):\n",
    "        print(\"I'm\", self)\n",
    "\n",
    "s = Spam()\n",
    "\n",
    "def parrot(self):\n",
    "    print(\"Squawk\", self)\n",
    "\n",
    "Spam.parrot = parrot"
   ]
  },
  {
   "cell_type": "code",
   "execution_count": 7,
   "metadata": {
    "collapsed": false
   },
   "outputs": [
    {
     "name": "stdout",
     "output_type": "stream",
     "text": [
      "Squawk <__main__.Spam object at 0x7f605c062a20>\n"
     ]
    }
   ],
   "source": [
    "s.parrot()"
   ]
  },
  {
   "cell_type": "markdown",
   "metadata": {
    "slideshow": {
     "slide_type": "slide"
    }
   },
   "source": [
    "\n",
    "## Special cases aren't special enough to break the rules\n",
    "\n",
    "### Scala\n",
    "\n",
    "```scala\n",
    "(0 until 10).mkString(\" und \")\n",
    "```\n",
    "### Python\n",
    "\n",
    "```python\n",
    "\" und \".join(range(10))\n",
    "```"
   ]
  },
  {
   "cell_type": "markdown",
   "metadata": {},
   "source": [
    "## Although practicality beats purity Ⅰ\n",
    "\n",
    "```python\n",
    "len(iterable) # not iterable.len()\n",
    "\n",
    "def some_generator():\n",
    "    while some_condition:\n",
    "        yield 42\n",
    "    # implicit raise StopIteration here...\n",
    "```"
   ]
  },
  {
   "cell_type": "markdown",
   "metadata": {
    "slideshow": {
     "slide_type": "slide"
    }
   },
   "source": [
    "## Although practicality beats purity Ⅱ\n",
    "\n",
    "### Zuweisungen wie `a = 0` sind Statements, keine Expressions\n",
    "\n",
    "* Verhindert Probleme\n",
    "\n",
    "```python\n",
    "foo(a=42)  # soll foo Aufgerufen werden mit Parameter a = 42 oder mit dem Ergebnis von a=42?\n",
    "\n",
    "if a = 42: # Uhoh...\n",
    "```\n",
    "\n",
    "* Aber auch nützliches\n",
    "\n",
    "```python\n",
    "a = b = 0   # geht in C weil a = (b = 0) und b = 0 den Wert 0 hat\n",
    "```"
   ]
  },
  {
   "cell_type": "markdown",
   "metadata": {
    "slideshow": {
     "slide_type": "fragment"
    }
   },
   "source": [
    "* Daher spezieller Syntaxsupport\n",
    "\n",
    "```python\n",
    "a = b = c = 0\n",
    "\n",
    "a = 0\n",
    "b = 0\n",
    "c = 0\n",
    "```"
   ]
  },
  {
   "cell_type": "markdown",
   "metadata": {
    "slideshow": {
     "slide_type": "slide"
    }
   },
   "source": [
    "## In the face of ambiguity, refuse the temptation to guess\n"
   ]
  },
  {
   "cell_type": "code",
   "execution_count": 11,
   "metadata": {
    "collapsed": false
   },
   "outputs": [],
   "source": [
    "x = 42 # global\n",
    "\n",
    "def foo():\n",
    "    print(x) # ok\n",
    "\n",
    "def bar():\n",
    "    print(x) # UnboundLocalError\n",
    "    x = 9\n",
    "\n",
    "def baz():\n",
    "    global x\n",
    "    print(x) # ok\n",
    "    x = 9"
   ]
  },
  {
   "cell_type": "code",
   "execution_count": 16,
   "metadata": {
    "collapsed": false
   },
   "outputs": [
    {
     "ename": "UnboundLocalError",
     "evalue": "local variable 'x' referenced before assignment",
     "output_type": "error",
     "traceback": [
      "\u001b[1;31m---------------------------------------------------------------------------\u001b[0m",
      "\u001b[1;31mUnboundLocalError\u001b[0m                         Traceback (most recent call last)",
      "\u001b[1;32m<ipython-input-16-4c8101bd3664>\u001b[0m in \u001b[0;36m<module>\u001b[1;34m()\u001b[0m\n\u001b[1;32m----> 1\u001b[1;33m \u001b[0mbar\u001b[0m\u001b[1;33m(\u001b[0m\u001b[1;33m)\u001b[0m\u001b[1;33m\u001b[0m\u001b[0m\n\u001b[0m",
      "\u001b[1;32m<ipython-input-11-7a5e3d779f24>\u001b[0m in \u001b[0;36mbar\u001b[1;34m()\u001b[0m\n\u001b[0;32m      5\u001b[0m \u001b[1;33m\u001b[0m\u001b[0m\n\u001b[0;32m      6\u001b[0m \u001b[1;32mdef\u001b[0m \u001b[0mbar\u001b[0m\u001b[1;33m(\u001b[0m\u001b[1;33m)\u001b[0m\u001b[1;33m:\u001b[0m\u001b[1;33m\u001b[0m\u001b[0m\n\u001b[1;32m----> 7\u001b[1;33m     \u001b[0mprint\u001b[0m\u001b[1;33m(\u001b[0m\u001b[0mx\u001b[0m\u001b[1;33m)\u001b[0m \u001b[1;31m# UnboundLocalError\u001b[0m\u001b[1;33m\u001b[0m\u001b[0m\n\u001b[0m\u001b[0;32m      8\u001b[0m     \u001b[0mx\u001b[0m \u001b[1;33m=\u001b[0m \u001b[1;36m9\u001b[0m\u001b[1;33m\u001b[0m\u001b[0m\n\u001b[0;32m      9\u001b[0m \u001b[1;33m\u001b[0m\u001b[0m\n",
      "\u001b[1;31mUnboundLocalError\u001b[0m: local variable 'x' referenced before assignment"
     ]
    }
   ],
   "source": [
    "bar()"
   ]
  },
  {
   "cell_type": "markdown",
   "metadata": {
    "slideshow": {
     "slide_type": "slide"
    }
   },
   "source": [
    "# Readability counts\n",
    "\n",
    "*“Programs should be written for people to read, and only incidentally\n",
    "for machines to execute.”*\n",
    "\n",
    "<small>(\"Structure and Interpretation of Computer Programs\" by Abelson and\n",
    "Sussman)</small>"
   ]
  },
  {
   "cell_type": "markdown",
   "metadata": {
    "slideshow": {
     "slide_type": "slide"
    }
   },
   "source": [
    "\n",
    "## “Find the sum of *all the squares* of the multiples of 3 or 5 below 1000.”\n",
    "\n",
    "##### Mathematik\n",
    "\n",
    "$$ \\sum \\left\\{x^2 \\| x \\in 3\\mathbb{Z}^+ \\cup 5\\mathbb{Z}^+, x < 1000 \\right\\} $$ \n",
    "\n",
    "oder \n",
    "\n",
    "$$ \\sum \\left\\{x^2 \\| x \\in [0, 1000); x \\equiv 0\\ (\\text{mod } 3) \\vee x \\equiv 0\\ (\\text{mod } 5)\\right\\} $$\n"
   ]
  },
  {
   "cell_type": "markdown",
   "metadata": {
    "slideshow": {
     "slide_type": "fragment"
    }
   },
   "source": [
    "##### Java\n",
    "\n",
    "```java\n",
    "int s = 0;\n",
    "for(int x=0; x<1000; x++) if (x%3 == 0 || x%5 == 0) s += x*x;\n",
    "```"
   ]
  },
  {
   "cell_type": "markdown",
   "metadata": {
    "slideshow": {
     "slide_type": "subslide"
    }
   },
   "source": [
    "##### Scala\n",
    "\n",
    "```scala\n",
    "(0 until 1000).withFilter(x => x%3==0 || x%5==0).map(x => x*x).sum\n",
    "```\n"
   ]
  },
  {
   "cell_type": "markdown",
   "metadata": {
    "slideshow": {
     "slide_type": "fragment"
    }
   },
   "source": [
    "```scala\n",
    "(for (x <- 0 until 1000 if x%3 == 0 || x%5 == 0) yield x*x).sum\n",
    "```"
   ]
  },
  {
   "cell_type": "markdown",
   "metadata": {
    "slideshow": {
     "slide_type": "fragment"
    }
   },
   "source": [
    "##### Python\n",
    "```python\n",
    "sum(x*x for x in range(1000) if x%3 == 0 or x%5 == 0)\n",
    "```"
   ]
  },
  {
   "cell_type": "markdown",
   "metadata": {
    "slideshow": {
     "slide_type": "slide"
    }
   },
   "source": [
    "### Vergleiche\n",
    "\n",
    "```scala\n",
    "if (users forall (_.age >= 18)) ...    \n",
    "if (users exists (_.age >= 18)) ...    \n",
    "```\n",
    "\n",
    "### mit\n",
    "\n",
    "```python\n",
    "if all(user.age >= 18 for user in users): ... \n",
    "if any(user.age >= 18 for user in users): ... \n",
    "```"
   ]
  },
  {
   "cell_type": "markdown",
   "metadata": {
    "slideshow": {
     "slide_type": "slide"
    }
   },
   "source": [
    "### English, Motherfucker, do you speak it?\n",
    "\n",
    "*“If some condition holds, set spam to 42 else set spam to 23”*\n",
    "\n",
    "```python\n",
    "if some_condition:\n",
    "    spam = 42\n",
    "else:\n",
    "    spam = 23\n",
    "```"
   ]
  },
  {
   "cell_type": "markdown",
   "metadata": {
    "slideshow": {
     "slide_type": "fragment"
    }
   },
   "source": [
    "*“set spam to, if some condition holds then 42 else 23”* ???\n",
    "```scala\n",
    "spam = some_condition ? 42 : 23  // WTF?\n",
    "spam = if (some_condition) 42 else 23 // meh...\n",
    "```"
   ]
  },
  {
   "cell_type": "markdown",
   "metadata": {
    "slideshow": {
     "slide_type": "fragment"
    }
   },
   "source": [
    "*“set spam to 42 if some condition holds else to 23”*\n"
   ]
  },
  {
   "cell_type": "markdown",
   "metadata": {
    "slideshow": {
     "slide_type": "fragment"
    }
   },
   "source": [
    "```python\n",
    "spam = 42 if some_condition else 23\n",
    "```"
   ]
  },
  {
   "cell_type": "markdown",
   "metadata": {
    "slideshow": {
     "slide_type": "subslide"
    }
   },
   "source": [
    "“)\\*](&@☠☠]}⚡||!”\n",
    "\n",
    "```scala\n",
    "if (check(a) && !condition || b > 42) // C/Java/Scala/Ruby\n",
    "```\n",
    "\n",
    "```python\n",
    "if check(a) and not condition or b > 42:\n",
    "```"
   ]
  },
  {
   "cell_type": "markdown",
   "metadata": {
    "collapsed": true,
    "slideshow": {
     "slide_type": "slide"
    }
   },
   "source": [
    "## In-built support for documentation"
   ]
  },
  {
   "cell_type": "code",
   "execution_count": 10,
   "metadata": {
    "collapsed": false
   },
   "outputs": [],
   "source": [
    "class Foo:\n",
    "    \"Documentation here\"\n",
    "\n",
    "    def bla(self):\n",
    "        \"\"\"Some more documentation\"\"\"\n",
    "        ..."
   ]
  },
  {
   "cell_type": "code",
   "execution_count": 11,
   "metadata": {
    "collapsed": false
   },
   "outputs": [
    {
     "name": "stdout",
     "output_type": "stream",
     "text": [
      "Help on class Foo in module __main__:\n",
      "\n",
      "class Foo(builtins.object)\n",
      " |  Documentation here\n",
      " |  \n",
      " |  Methods defined here:\n",
      " |  \n",
      " |  bla(self)\n",
      " |      Some more documentation\n",
      " |  \n",
      " |  ----------------------------------------------------------------------\n",
      " |  Data descriptors defined here:\n",
      " |  \n",
      " |  __dict__\n",
      " |      dictionary for instance variables (if defined)\n",
      " |  \n",
      " |  __weakref__\n",
      " |      list of weak references to the object (if defined)\n",
      "\n"
     ]
    }
   ],
   "source": [
    "help(Foo)"
   ]
  },
  {
   "cell_type": "markdown",
   "metadata": {
    "slideshow": {
     "slide_type": "notes"
    }
   },
   "source": [
    " * Ob single oder multiline String ist prinzipiell egal\n",
    " * Konvention: immer multiline Strings für Docs"
   ]
  },
  {
   "cell_type": "code",
   "execution_count": null,
   "metadata": {
    "collapsed": false,
    "slideshow": {
     "slide_type": "slide"
    }
   },
   "outputs": [],
   "source": [
    "Foo().bar()"
   ]
  },
  {
   "cell_type": "markdown",
   "metadata": {
    "slideshow": {
     "slide_type": "slide"
    }
   },
   "source": [
    "## Was eine Codezeile tut, hängt nicht vom Context ab"
   ]
  },
  {
   "cell_type": "markdown",
   "metadata": {},
   "source": [
    "### Schaue den Wert von `foo` nach, und weise diesem `a` zu\n",
    "\n",
    "```python\n",
    "a = foo```\n",
    "\n",
    "### Schaue den Wert von `foo` nach, rufe diesen Wert auf, und weise `a` das Ergebnis zu\n",
    "\n",
    "```python\n",
    "a = foo()\n",
    "```\n",
    "\n",
    "### Schaue den Wert von `foo` nach, rufe `__getitem__(2)` darauf auf und weise `a` das Ergebnis zu\n",
    "\n",
    "```python\n",
    "a = foo[2]\n",
    "```\n",
    "\n",
    "Das gilt unabhängig davon, ob `foo` auf eine Funktion, Klasse, Instanz oder sonstwas zeigt."
   ]
  },
  {
   "cell_type": "markdown",
   "metadata": {
    "slideshow": {
     "slide_type": "slide"
    }
   },
   "source": [
    "```scala\n",
    "\n",
    "def foo() = {\n",
    "    def bar() = {\n",
    "        println(\"bar\")\n",
    "\t\t42\n",
    "\t}\n",
    "\tbar\n",
    "}\n",
    "```"
   ]
  },
  {
   "cell_type": "markdown",
   "metadata": {
    "slideshow": {
     "slide_type": "fragment"
    }
   },
   "source": [
    "```scala\n",
    "> foo()\n",
    "bar\n",
    "res: Int = 42\n",
    "          \n",
    "```"
   ]
  },
  {
   "cell_type": "markdown",
   "metadata": {
    "slideshow": {
     "slide_type": "slide"
    }
   },
   "source": [
    "```scala\n",
    "def foo(): Unit = {\n",
    "  def bar() = {\n",
    "    println(\"bar\")\n",
    "    42\n",
    "  }\n",
    "  bar\n",
    "}\n",
    "```"
   ]
  },
  {
   "cell_type": "markdown",
   "metadata": {
    "slideshow": {
     "slide_type": "fragment"
    }
   },
   "source": [
    "```scala\n",
    "> foo()\n",
    "bar\n",
    "          \n",
    "```"
   ]
  },
  {
   "cell_type": "markdown",
   "metadata": {
    "slideshow": {
     "slide_type": "slide"
    }
   },
   "source": [
    "```scala\n",
    "def foo(): ()=>Int = {\n",
    "  def bar() = {\n",
    "    println(\"bar\")\n",
    "    42\n",
    "  }\n",
    "  bar\n",
    "}\n",
    "```"
   ]
  },
  {
   "cell_type": "markdown",
   "metadata": {
    "slideshow": {
     "slide_type": "fragment"
    }
   },
   "source": [
    "```scala\n",
    "> foo()\n",
    "res: () => Int = <function0>\n",
    "> foo()()\n",
    "bar\n",
    "res: Int = 42\n",
    "          \n",
    "```"
   ]
  },
  {
   "cell_type": "markdown",
   "metadata": {
    "slideshow": {
     "slide_type": "slide"
    }
   },
   "source": [
    "# Dynamic Typing ≠ Weakly Typed\n",
    "\n",
    "|Typing|Bedeutung\n",
    "|-|-|\n",
    "|Strong|Jedes Objekt hat einen festen Typ. Dieser ändert sich nicht.|\n",
    "|Weak|Der Typ eines Objektes kann sich je nach Kontext ändern|\n",
    "|Static|Variablen können nur Objekte eines bestimmten Typs enthalten|\n",
    "|Dynamic|Variablen können Objekte jedes Typs enthalten|\n",
    "\n",
    "### Beispiele\n",
    "\n",
    "|Typ|Sprache|\n",
    "|-|-|\n",
    "|strong & dynamic|Python, Ruby|\n",
    "|strong & static|Haskell, Java, Scala|\n",
    "|weak & dynamic|JavaScript, Perl, PHP|\n",
    "|weak & static|C, C++|\n"
   ]
  },
  {
   "cell_type": "markdown",
   "metadata": {
    "slideshow": {
     "slide_type": "slide"
    }
   },
   "source": [
    "<img src=\"images/js-equality.png\"/>\n",
    "(https://dorey.github.io/JavaScript-Equality-Table/unified/)"
   ]
  },
  {
   "cell_type": "markdown",
   "metadata": {
    "collapsed": true,
    "slideshow": {
     "slide_type": "slide"
    }
   },
   "source": [
    "<img src=\"python-equality.png\"/>"
   ]
  },
  {
   "cell_type": "markdown",
   "metadata": {
    "slideshow": {
     "slide_type": "slide"
    }
   },
   "source": [
    "# Dynamic Features\n",
    "\n",
    "Python is dynamisch, d. h. Werte werden erst zur Laufzeit aufgelöst."
   ]
  },
  {
   "cell_type": "code",
   "execution_count": 1,
   "metadata": {
    "collapsed": true
   },
   "outputs": [],
   "source": [
    "def bar():\n",
    "    return foo()\n",
    "\n",
    "def foo():\n",
    "    return 42"
   ]
  },
  {
   "cell_type": "code",
   "execution_count": 1,
   "metadata": {
    "collapsed": true,
    "slideshow": {
     "slide_type": "slide"
    }
   },
   "outputs": [],
   "source": [
    "def foo():\n",
    "    return 2\n",
    "\n",
    "# ist (fast) dasselbe wie\n",
    "\n",
    "foo = lambda: 2"
   ]
  },
  {
   "cell_type": "markdown",
   "metadata": {
    "slideshow": {
     "slide_type": "slide"
    }
   },
   "source": [
    "Python macht jede Information verfügbar, z. B. den Bytecode:"
   ]
  },
  {
   "cell_type": "code",
   "execution_count": 7,
   "metadata": {
    "collapsed": false
   },
   "outputs": [
    {
     "name": "stdout",
     "output_type": "stream",
     "text": [
      "  2           0 LOAD_FAST                0 (x)\n",
      "              3 LOAD_FAST                1 (y)\n",
      "              6 BINARY_ADD\n",
      "              7 RETURN_VALUE\n"
     ]
    }
   ],
   "source": [
    "def add(x, y):\n",
    "    return x + y\n",
    "\n",
    "import dis\n",
    "dis.dis(add)"
   ]
  },
  {
   "cell_type": "markdown",
   "metadata": {
    "slideshow": {
     "slide_type": "fragment"
    }
   },
   "source": [
    "oder den Quelltext, falls verfügbar:"
   ]
  },
  {
   "cell_type": "code",
   "execution_count": 8,
   "metadata": {
    "collapsed": false
   },
   "outputs": [
    {
     "name": "stdout",
     "output_type": "stream",
     "text": [
      "def add(x, y):\n",
      "    return x + y\n",
      "\n"
     ]
    }
   ],
   "source": [
    "import inspect\n",
    "print(inspect.getsource(add))"
   ]
  },
  {
   "cell_type": "markdown",
   "metadata": {
    "slideshow": {
     "slide_type": "slide"
    }
   },
   "source": [
    "oder den internen State von Generatoren"
   ]
  },
  {
   "cell_type": "code",
   "execution_count": 2,
   "metadata": {
    "collapsed": true
   },
   "outputs": [],
   "source": [
    "def my_generator():\n",
    "    a = 42\n",
    "    yield 1\n",
    "    yield 2"
   ]
  },
  {
   "cell_type": "code",
   "execution_count": 4,
   "metadata": {
    "collapsed": false
   },
   "outputs": [
    {
     "data": {
      "text/plain": [
       "1"
      ]
     },
     "execution_count": 4,
     "metadata": {},
     "output_type": "execute_result"
    }
   ],
   "source": [
    "gen = my_generator()\n",
    "next(gen)"
   ]
  },
  {
   "cell_type": "code",
   "execution_count": 9,
   "metadata": {
    "collapsed": false
   },
   "outputs": [
    {
     "data": {
      "text/plain": [
       "('GEN_SUSPENDED', {'a': 42})"
      ]
     },
     "execution_count": 9,
     "metadata": {},
     "output_type": "execute_result"
    }
   ],
   "source": [
    "inspect.getgeneratorstate(gen), inspect.getgeneratorlocals(gen)"
   ]
  },
  {
   "cell_type": "markdown",
   "metadata": {
    "slideshow": {
     "slide_type": "slide"
    }
   },
   "source": [
    "Auch Imports sind nur Variablenzuweisungen:"
   ]
  },
  {
   "cell_type": "code",
   "execution_count": 7,
   "metadata": {
    "collapsed": true
   },
   "outputs": [],
   "source": [
    "import sys as blubb\n",
    "\n",
    "# ist (fast) dasselbe wie\n",
    "\n",
    "blubb = __import__(\"sys\")"
   ]
  },
  {
   "cell_type": "markdown",
   "metadata": {
    "slideshow": {
     "slide_type": "slide"
    }
   },
   "source": [
    "# Dependency Injection Frameworks sind unnötig\n",
    "\n",
    "In statischen Sprachen sind DI-Frameworks notwendig, um die Kopplung zwischen Code aufzuheben. In Python ist die Kopplung nicht vorhanden.\n",
    "\n",
    "Anders gesagt: Was in Python ein `import` ist, ist in anderen Sprachen ein `inject`"
   ]
  },
  {
   "cell_type": "markdown",
   "metadata": {
    "slideshow": {
     "slide_type": "slide"
    }
   },
   "source": [
    "```python\n",
    "import models\n",
    "from services import Frobnicator\n",
    "\n",
    "def do_something(id: int) -> str:\n",
    "    user = models.User(id=id)\n",
    "    frob = Frobnicator(user)\n",
    "    return frob.fribble()\n",
    "```\n",
    "ist grob vergleichbar mit folgendem Scaldicode:"
   ]
  },
  {
   "cell_type": "markdown",
   "metadata": {
    "slideshow": {
     "slide_type": "-"
    }
   },
   "source": [
    "```scala\n",
    "class Whatever {\n",
    "\n",
    "  var models = modelsModuleInstance\n",
    "  var frobnicatorFactory = servicesModuleInstance.inject[FrobnicatorFactory]\n",
    "  \n",
    "  def do_something(id: Int): String = {\n",
    "    var user = models.inject[User](Map('id -> id))\n",
    "    var frob = frobnicatorFactory.getInstance(user)\n",
    "    frob.fribble()\n",
    "  }\n",
    "}\n",
    "```"
   ]
  },
  {
   "cell_type": "code",
   "execution_count": 1,
   "metadata": {
    "collapsed": true,
    "slideshow": {
     "slide_type": "slide"
    }
   },
   "outputs": [],
   "source": [
    "# Eine Klasse wird hier nur genutzt,\n",
    "# damit ich ein Modul simulieren kann, ohne eine weitere Datei\n",
    "# nutzen zu müssen\n",
    "class BeispielModul:\n",
    "    from datetime import date  # es existiert jetzt eine Variable date,\n",
    "      # die auf die date-Klasse des datetime Moduls zeigt\n",
    "\n",
    "    def print_date(self):\n",
    "        print(\"Heute ist der\", self.date.today()) #normalerweise date.today()\n",
    "    "
   ]
  },
  {
   "cell_type": "code",
   "execution_count": 5,
   "metadata": {
    "collapsed": false
   },
   "outputs": [
    {
     "name": "stdout",
     "output_type": "stream",
     "text": [
      "Heute ist der 2015-11-05\n"
     ]
    }
   ],
   "source": [
    "modul = BeispielModul()\n",
    "\n",
    "print_date = modul.print_date # \"from modul import print_date\"\n",
    "print_date()"
   ]
  },
  {
   "cell_type": "code",
   "execution_count": 3,
   "metadata": {
    "collapsed": true
   },
   "outputs": [],
   "source": [
    "class MeinMockDate:\n",
    "    def today(self):\n",
    "        return \"2015-01-01\" #eigentlich kein String\n",
    "\n",
    "modul.date = MeinMockDate()"
   ]
  },
  {
   "cell_type": "code",
   "execution_count": 4,
   "metadata": {
    "collapsed": false
   },
   "outputs": [
    {
     "name": "stdout",
     "output_type": "stream",
     "text": [
      "Heute ist der 2015-01-01\n"
     ]
    }
   ],
   "source": [
    "print_date()"
   ]
  },
  {
   "cell_type": "markdown",
   "metadata": {
    "slideshow": {
     "slide_type": "slide"
    }
   },
   "source": [
    "```python\n",
    "from gevent import monkey\n",
    "monkey.patch_all()\n",
    "```"
   ]
  },
  {
   "cell_type": "code",
   "execution_count": 1,
   "metadata": {
    "collapsed": false,
    "slideshow": {
     "slide_type": "slide"
    }
   },
   "outputs": [
    {
     "name": "stdout",
     "output_type": "stream",
     "text": [
      " ______________________\n",
      "< Hello from the shell >\n",
      " ----------------------\n",
      "        \\   ^__^\n",
      "         \\  (oo)\\_______\n",
      "            (__)\\       )\\/\\\n",
      "                ||----w |\n",
      "                ||     ||\n",
      "\n"
     ]
    }
   ],
   "source": [
    "from sh import cowsay\n",
    "output = cowsay(\"Hello from the shell\")\n",
    "print(output)"
   ]
  },
  {
   "cell_type": "markdown",
   "metadata": {
    "slideshow": {
     "slide_type": "slide"
    }
   },
   "source": [
    "# dynamic heißt nicht, dass statische prüfungen unmöglich sind\n",
    "\n",
    "pylint vorführen..."
   ]
  },
  {
   "cell_type": "markdown",
   "metadata": {
    "slideshow": {
     "slide_type": "slide"
    }
   },
   "source": [
    "## 15 Minuten Crashcourse\n",
    "\n",
    "-   Whitespace matters\n",
    "-   Alles ist ein Objekt\n",
    "-   Jedes Objekt hat einen eigenen Namespace (“dict”, “locals”, ...)\n",
    "-   Es gibt eine Hierachie von Namespaces\n",
    "-   `foo.bar` ist ein Namespace-Lookup in `foo`\n",
    "-   `foo[\"bar\"]` ist `foo.__getitem__(\"bar\")`\n",
    "-   `class Foo(Base1, Base2):` “öffnet” einen neuen Namespace, der dann\n",
    "    von Anweisungen befüllt wird\n",
    "-   `import foo`<br/>\n",
    "    `from foo import bar as baz`<br/>\n",
    "    importiert in den aktuellen Namespace\n"
   ]
  },
  {
   "cell_type": "markdown",
   "metadata": {
    "slideshow": {
     "slide_type": "notes"
    }
   },
   "source": [
    " * 3 = int(3)\n",
    " * namespace-Lookup kann überschrieben werden\n",
    " * class: d. h. man kann dort ganz normalen Code ausführen\n",
    " * class: instanziiert wird dann eine Metaklasse\n",
    " * import is anpassbar -\\> DI"
   ]
  },
  {
   "cell_type": "markdown",
   "metadata": {
    "slideshow": {
     "slide_type": "slide"
    }
   },
   "source": [
    "## The Whitespace Thing\n",
    "\n",
    "Anders als Computer sind Menschen ziemlich schlecht im Klammern zählen. Für uns hat Einrückung semantische Bedeutung (\"Readability Counts\")\n",
    "\n",
    "```java\n",
    "if (some_condition)\n",
    "    do_something();\n",
    "    and_do_something_else();\n",
    "do_this_everytime()\n",
    "\n",
    "for (int i = 0; i < 100; i++); {\n",
    "    do_this_100_times();\n",
    "}\n",
    "```\n",
    "\n"
   ]
  },
  {
   "cell_type": "markdown",
   "metadata": {
    "slideshow": {
     "slide_type": "slide"
    }
   },
   "source": [
    "## Assignment by reference\n",
    "### bzw: Variablen sind Tags, die an ein Objekt gepackt werden"
   ]
  },
  {
   "cell_type": "code",
   "execution_count": 12,
   "metadata": {
    "collapsed": true,
    "slideshow": {
     "slide_type": "-"
    }
   },
   "outputs": [],
   "source": [
    "a = 1001\n",
    "b = a\n",
    "c = 1001"
   ]
  },
  {
   "cell_type": "code",
   "execution_count": 23,
   "metadata": {
    "collapsed": false
   },
   "outputs": [
    {
     "data": {
      "text/plain": [
       "(True, 1080156648432, 1080156648432)"
      ]
     },
     "execution_count": 23,
     "metadata": {},
     "output_type": "execute_result"
    }
   ],
   "source": [
    "b is a, id(b), id(a)"
   ]
  },
  {
   "cell_type": "code",
   "execution_count": 24,
   "metadata": {
    "collapsed": false
   },
   "outputs": [
    {
     "data": {
      "text/plain": [
       "(False, 1080156648496, 1080156648432)"
      ]
     },
     "execution_count": 24,
     "metadata": {},
     "output_type": "execute_result"
    }
   ],
   "source": [
    "c is a, id(c), id(a)"
   ]
  },
  {
   "cell_type": "markdown",
   "metadata": {
    "slideshow": {
     "slide_type": "slide"
    }
   },
   "source": [
    "## Callables\n",
    "\n",
    "- `foo.bar(param)` ist `x(param)` mit `x = foo.bar`\n",
    "- Genauer: `foo.bar(param)` ist `foo.bar.__call__(param)`\n",
    "- *Ganz* genau ist es `getattr(getattr(locals()[\"foo\"], \"bar\"), \"__call__\")(param)`\n",
    "- Pythons \"`foo`\" entspricht in etwa Scalas \"`foo _`\" falls \"`foo`\" eine Funktion\n",
    "- Daraus folgt, dass es *kein* Funktionsoverloading gibt (stdlib stellt aber `singledispatch` bereit)\n",
    "- Pythons `__call__` entspricht in etwa Scalas `apply`\n",
    "- Eine Klasse ist ein callable, welches beim Aufruf eine (nicht zwingend neue) Instanz zurückgibt\n",
    "- Die Instanz kann theoretisch sogar eine Instanz einer anderen Klasse sein\n",
    "- In 99,9% der Fälle gibt eine Klasse aber eine neue Instanz von sich zurück"
   ]
  },
  {
   "cell_type": "markdown",
   "metadata": {
    "slideshow": {
     "slide_type": "notes"
    }
   },
   "source": [
    "* Singletonpattern wird in Python eher selten verwendet, statt singleton wird oft einfach ein Modul genutzt"
   ]
  },
  {
   "cell_type": "markdown",
   "metadata": {
    "slideshow": {
     "slide_type": "slide"
    }
   },
   "source": [
    "## Spezielle Datentypen (Python 3)\n",
    "\n",
    "-   Strings (immutable)\n",
    "\n",
    "```python\n",
    "'single line' # oder \"single line\"\n",
    "'''multi\n",
    "line'''       # oder \"\"\"...\"\"\"\n",
    "r'raw\\string' # == 'raw\\\\string'\n",
    "```\n",
    "\n",
    "-   Bytes (immutable)\n",
    "\n",
    "```python\n",
    "b'byte sequence'    # \", ''' und \"\"\" geht auch\n",
    "bytes(10, 20, 255)  # es gibt auch bytearray (mutable)\n",
    "```\n",
    "\n",
    "-   Tuple (immutable)\n",
    "\n",
    "```python\n",
    "1, 2, 3 # oder tuple(1, 2, 3)\n",
    "(1, 2, 3) # lesbarer\n",
    "```\n",
    "\n",
    "-   List (mutable)\n",
    "\n",
    "```python\n",
    "[1, 2, 3] # oder list(1, 2, 3)\n",
    "```"
   ]
  },
  {
   "cell_type": "markdown",
   "metadata": {
    "slideshow": {
     "slide_type": "subslide"
    }
   },
   "source": [
    "-   Dictionary/Map (mutable)\n",
    "\n",
    "```python\n",
    "{key: value} # oder dict(key_als_str=value) \n",
    "```\n",
    "  \n",
    "-   Sets(mutable/immutable)\n",
    "\n",
    "```python\n",
    "{1, 2, 3, 4} # oder set(1, 2, 3, 4)\n",
    "frozenset(1, 2, 3, 4) # immutable\n",
    "```"
   ]
  },
  {
   "cell_type": "markdown",
   "metadata": {
    "slideshow": {
     "slide_type": "notes"
    }
   },
   "source": [
    "* speziell = hat speziellen Syntax\n",
    "* key muss hashable == immutable sein\n",
    "* {} ist dict, nicht set\n",
    "* Es gibt auch namedtuple \\~= case class\n",
    "* In Python 2 sind Strings und Bytes vermischt, Python 3 strings sind Unicode strings"
   ]
  },
  {
   "cell_type": "markdown",
   "metadata": {
    "slideshow": {
     "slide_type": "slide"
    }
   },
   "source": [
    "## Truth testing\n",
    "\n",
    "`if x` bedeutet streng genommen `if bool(x)`. Jedes Objekt hat einen Wahrheitswert:\n",
    "\n",
    "> The following values are considered false:\n",
    "\n",
    "> * `None`\n",
    "\n",
    "> * `False`\n",
    "\n",
    "> * zero of any numeric type, for example, `0`, `0.0`, `0j`.\n",
    "\n",
    "> * any empty sequence, for example, `''`, `()`, `[]`.\n",
    "\n",
    "> * any empty mapping, for example, `{}`.\n",
    "\n",
    "> *   instances of user-defined classes, if the class defines a `__bool__`() or `__len__`() method, when that method returns the integer zero or bool value `False`.\n",
    "\n",
    "> All other values are considered true — so objects of many types are always true."
   ]
  },
  {
   "cell_type": "markdown",
   "metadata": {
    "slideshow": {
     "slide_type": "slide"
    }
   },
   "source": [
    "## Slices\n",
    "##### `start:stop:step`\n",
    "\t"
   ]
  },
  {
   "cell_type": "code",
   "execution_count": 2,
   "metadata": {
    "collapsed": false
   },
   "outputs": [
    {
     "data": {
      "text/plain": [
       "[0, 1, 2, 3, 4, 5, 6, 7, 8, 9]"
      ]
     },
     "execution_count": 2,
     "metadata": {},
     "output_type": "execute_result"
    }
   ],
   "source": [
    "x = list(range(10))\n",
    "x"
   ]
  },
  {
   "cell_type": "code",
   "execution_count": 27,
   "metadata": {
    "collapsed": false
   },
   "outputs": [
    {
     "data": {
      "text/plain": [
       "1"
      ]
     },
     "execution_count": 27,
     "metadata": {},
     "output_type": "execute_result"
    }
   ],
   "source": [
    "x[1]"
   ]
  },
  {
   "cell_type": "code",
   "execution_count": 28,
   "metadata": {
    "collapsed": false
   },
   "outputs": [
    {
     "data": {
      "text/plain": [
       "[1, 2]"
      ]
     },
     "execution_count": 28,
     "metadata": {},
     "output_type": "execute_result"
    }
   ],
   "source": [
    "x[1:3]"
   ]
  },
  {
   "cell_type": "code",
   "execution_count": 29,
   "metadata": {
    "collapsed": false
   },
   "outputs": [
    {
     "data": {
      "text/plain": [
       "[7, 8, 9]"
      ]
     },
     "execution_count": 29,
     "metadata": {},
     "output_type": "execute_result"
    }
   ],
   "source": [
    "x[7:]"
   ]
  },
  {
   "cell_type": "code",
   "execution_count": 30,
   "metadata": {
    "collapsed": false
   },
   "outputs": [
    {
     "data": {
      "text/plain": [
       "[0, 1, 2, 3, 4, 5, 6]"
      ]
     },
     "execution_count": 30,
     "metadata": {},
     "output_type": "execute_result"
    }
   ],
   "source": [
    "x[:7]"
   ]
  },
  {
   "cell_type": "markdown",
   "metadata": {},
   "source": [
    "Merkhilfe: `x[:N] + x[N:] == x`\n",
    "\n",
    "oder `x[:N]` ergibt die ersten N Elemente"
   ]
  },
  {
   "cell_type": "code",
   "execution_count": 83,
   "metadata": {
    "collapsed": false
   },
   "outputs": [
    {
     "data": {
      "text/plain": [
       "[1, 3]"
      ]
     },
     "execution_count": 83,
     "metadata": {},
     "output_type": "execute_result"
    }
   ],
   "source": [
    "x[1:5:2]"
   ]
  },
  {
   "cell_type": "code",
   "execution_count": 84,
   "metadata": {
    "collapsed": false
   },
   "outputs": [
    {
     "data": {
      "text/plain": [
       "9"
      ]
     },
     "execution_count": 84,
     "metadata": {},
     "output_type": "execute_result"
    }
   ],
   "source": [
    "x[-1]"
   ]
  },
  {
   "cell_type": "code",
   "execution_count": 6,
   "metadata": {
    "collapsed": false,
    "slideshow": {
     "slide_type": "slide"
    }
   },
   "outputs": [
    {
     "data": {
      "text/plain": [
       "[4, 5, 6]"
      ]
     },
     "execution_count": 6,
     "metadata": {},
     "output_type": "execute_result"
    }
   ],
   "source": [
    "x[4:-3]"
   ]
  },
  {
   "cell_type": "code",
   "execution_count": 87,
   "metadata": {
    "collapsed": false,
    "slideshow": {
     "slide_type": "-"
    }
   },
   "outputs": [
    {
     "data": {
      "text/plain": [
       "[9, 8, 7, 6, 5, 4, 3, 2, 1, 0]"
      ]
     },
     "execution_count": 87,
     "metadata": {},
     "output_type": "execute_result"
    }
   ],
   "source": [
    "x[::-1] # reversed() ist normalerweise besser"
   ]
  },
  {
   "cell_type": "code",
   "execution_count": 88,
   "metadata": {
    "collapsed": false
   },
   "outputs": [],
   "source": [
    "# x[a:b:c] == x[slice(a,b,c)] == x.__getitem__(slice(a,b,c))"
   ]
  },
  {
   "cell_type": "code",
   "execution_count": 89,
   "metadata": {
    "collapsed": false,
    "slideshow": {
     "slide_type": "slide"
    }
   },
   "outputs": [
    {
     "data": {
      "text/plain": [
       "[0, 1, 2, -1, -2, -3, 7, 8, 9]"
      ]
     },
     "execution_count": 89,
     "metadata": {},
     "output_type": "execute_result"
    }
   ],
   "source": [
    "x = list(range(10))\n",
    "= [-1, -2, -3]\n",
    "x"
   ]
  },
  {
   "cell_type": "code",
   "execution_count": 90,
   "metadata": {
    "collapsed": false
   },
   "outputs": [
    {
     "data": {
      "text/plain": [
       "[0, 1, 2, 3, 5, 6, 7, 8, 9]"
      ]
     },
     "execution_count": 90,
     "metadata": {},
     "output_type": "execute_result"
    }
   ],
   "source": [
    "x = list(range(10))\n",
    "del x[4]\n",
    "x"
   ]
  },
  {
   "cell_type": "code",
   "execution_count": 1,
   "metadata": {
    "collapsed": false
   },
   "outputs": [
    {
     "data": {
      "text/plain": [
       "['Deal', 1, 2, 3, 'with', 5, 6, 7, 'it', 9]"
      ]
     },
     "execution_count": 1,
     "metadata": {},
     "output_type": "execute_result"
    }
   ],
   "source": [
    "x = list(range(10))\n",
    "x[::4] = ['Deal', 'with', 'it']\n",
    "x"
   ]
  },
  {
   "cell_type": "code",
   "execution_count": 92,
   "metadata": {
    "collapsed": true
   },
   "outputs": [],
   "source": [
    "# x[a:b:c] = foo  ==  x.__setitem__(slice(a,b,c), foo)"
   ]
  },
  {
   "cell_type": "markdown",
   "metadata": {
    "slideshow": {
     "slide_type": "slide"
    }
   },
   "source": [
    "## Tuple Unpacking"
   ]
  },
  {
   "cell_type": "code",
   "execution_count": 18,
   "metadata": {
    "collapsed": false
   },
   "outputs": [],
   "source": [
    "a, b, c = 1, 2, 3"
   ]
  },
  {
   "cell_type": "code",
   "execution_count": 19,
   "metadata": {
    "collapsed": false
   },
   "outputs": [
    {
     "data": {
      "text/plain": [
       "1"
      ]
     },
     "execution_count": 19,
     "metadata": {},
     "output_type": "execute_result"
    }
   ],
   "source": [
    "a"
   ]
  },
  {
   "cell_type": "code",
   "execution_count": 20,
   "metadata": {
    "collapsed": false
   },
   "outputs": [],
   "source": [
    "head, *tail = [1, 2, 3, 4]"
   ]
  },
  {
   "cell_type": "code",
   "execution_count": 21,
   "metadata": {
    "collapsed": false
   },
   "outputs": [
    {
     "data": {
      "text/plain": [
       "1"
      ]
     },
     "execution_count": 21,
     "metadata": {},
     "output_type": "execute_result"
    }
   ],
   "source": [
    "head"
   ]
  },
  {
   "cell_type": "code",
   "execution_count": 22,
   "metadata": {
    "collapsed": false
   },
   "outputs": [
    {
     "data": {
      "text/plain": [
       "[2, 3, 4]"
      ]
     },
     "execution_count": 22,
     "metadata": {},
     "output_type": "execute_result"
    }
   ],
   "source": [
    "tail"
   ]
  },
  {
   "cell_type": "code",
   "execution_count": 2,
   "metadata": {
    "collapsed": false
   },
   "outputs": [
    {
     "ename": "ValueError",
     "evalue": "not enough values to unpack (expected at least 3, got 1)",
     "output_type": "error",
     "traceback": [
      "\u001b[1;31m---------------------------------------------------------------------------\u001b[0m",
      "\u001b[1;31mValueError\u001b[0m                                Traceback (most recent call last)",
      "\u001b[1;32m<ipython-input-2-e4b9eb2aa57b>\u001b[0m in \u001b[0;36m<module>\u001b[1;34m()\u001b[0m\n\u001b[1;32m----> 1\u001b[1;33m \u001b[0ma\u001b[0m\u001b[1;33m,\u001b[0m \u001b[1;33m*\u001b[0m\u001b[0mrest\u001b[0m\u001b[1;33m,\u001b[0m \u001b[0mb\u001b[0m\u001b[1;33m,\u001b[0m \u001b[0mc\u001b[0m \u001b[1;33m=\u001b[0m \u001b[0mrange\u001b[0m\u001b[1;33m(\u001b[0m\u001b[1;36m1\u001b[0m\u001b[1;33m)\u001b[0m\u001b[1;33m\u001b[0m\u001b[0m\n\u001b[0m",
      "\u001b[1;31mValueError\u001b[0m: not enough values to unpack (expected at least 3, got 1)"
     ]
    }
   ],
   "source": [
    "a, *rest, b, c = range(1)"
   ]
  },
  {
   "cell_type": "code",
   "execution_count": 7,
   "metadata": {
    "collapsed": false
   },
   "outputs": [
    {
     "data": {
      "text/plain": [
       "'a=0, rest=[1, 2, 3, 4, 5, 6, 7], b=8, c=9'"
      ]
     },
     "execution_count": 7,
     "metadata": {},
     "output_type": "execute_result"
    }
   ],
   "source": [
    "\"a={a}, rest={rest}, b={b}, c={c}\".format(**locals()) # yes, ugly. Python 3.6 will get f\"...\" formatting like Scalas s\"...\""
   ]
  },
  {
   "cell_type": "markdown",
   "metadata": {
    "slideshow": {
     "slide_type": "slide"
    }
   },
   "source": [
    "## Comprehensions\n",
    "\n",
    "list\n",
    "```python\n",
    "[stmt for x in iterable1 for y in iterable2 if condition]\n",
    "```\n",
    "\n",
    "set\n",
    "```python\n",
    "{stmt for x in iterable1 for y in iterable2 if condition}\n",
    "```\n",
    "\n",
    "dict\n",
    "```python\n",
    "{keystmt:valuestmt for x in iterable1 for y in iterable2 if condition}\n",
    "```\n",
    "\n",
    "generator\n",
    "```python\n",
    "(stmt for x in iterable1 for y in iterable2 if condition)\n",
    "```"
   ]
  },
  {
   "cell_type": "code",
   "execution_count": 32,
   "metadata": {
    "collapsed": false,
    "slideshow": {
     "slide_type": "slide"
    }
   },
   "outputs": [
    {
     "data": {
      "text/plain": [
       "[0, 2, 4, 6, 8, 10, 12, 14, 16, 18]"
      ]
     },
     "execution_count": 32,
     "metadata": {},
     "output_type": "execute_result"
    }
   ],
   "source": [
    "[2*x for x in range(10)]"
   ]
  },
  {
   "cell_type": "code",
   "execution_count": 8,
   "metadata": {
    "collapsed": false
   },
   "outputs": [
    {
     "data": {
      "text/plain": [
       "{'Ein': 3, 'langweiliges': 12}"
      ]
     },
     "execution_count": 8,
     "metadata": {},
     "output_type": "execute_result"
    }
   ],
   "source": [
    "{word: len(word) for word in \"Ein langweiliges Beispiel\".split()\n",
    " if word != 'Beispiel'}"
   ]
  },
  {
   "cell_type": "markdown",
   "metadata": {
    "slideshow": {
     "slide_type": "slide"
    }
   },
   "source": [
    "## Funktionen\n",
    "\n",
    "Sind first class\n",
    "\n",
    "```python\n",
    "def name(param1, param2): \n",
    "    ...\n",
    "\n",
    "# bedeutet eigentlich name = MAKE_FUNCTION(....)\n",
    "\n",
    "def name(param1, param2=default2): ...\n",
    "\n",
    "def name(a, b, c, *args): # varargs, args ist tuple\n",
    "\n",
    "def name(a, b, c, **kwargs): #varargs, kwargs ist dict\n",
    "\n",
    "def name(a: Union[Foo, Sequence[Foo]], b: Bar) -> Optional[Bar]: # Parameterannotationen, typing Module in 3.5\n",
    "# Optional[X] == Union[X, None] == Union[X, type(None)]\n",
    "\n",
    "lambda a, b, c: expr # anonyme Funktion\n",
    "```\n"
   ]
  },
  {
   "cell_type": "markdown",
   "metadata": {
    "slideshow": {
     "slide_type": "notes"
    }
   },
   "source": [
    "MAKE\\_FUNCTION gibt es nicht direkt\n",
    "\n",
    "args und kwargs kann kombiniert werden\n",
    "\n",
    "Spart Magic-Regeln wie in Ruby oder Scala, wo Klammern optional sind\n",
    "\n",
    "lambda kann nur ein statement enthalten"
   ]
  },
  {
   "cell_type": "markdown",
   "metadata": {
    "slideshow": {
     "slide_type": "slide"
    }
   },
   "source": [
    "## Inner functions\n",
    "\n",
    "-   Können auf Kontext der umgebenen Funktion zugreifen\n",
    "-   Können zurückgegeben werden"
   ]
  },
  {
   "cell_type": "code",
   "execution_count": 8,
   "metadata": {
    "collapsed": false
   },
   "outputs": [
    {
     "data": {
      "text/plain": [
       "14"
      ]
     },
     "execution_count": 8,
     "metadata": {},
     "output_type": "execute_result"
    }
   ],
   "source": [
    "def make_adder(x):\n",
    "    def add_y(y):\n",
    "        return x + y\n",
    "    return add_y\n",
    "\n",
    "# oder\n",
    "\n",
    "def make_adder_alternative(x):\n",
    "    return lambda y: x + y\n",
    "\n",
    "add_four = make_adder(4)\n",
    "add_four(10)"
   ]
  },
  {
   "cell_type": "code",
   "execution_count": 116,
   "metadata": {
    "collapsed": false
   },
   "outputs": [
    {
     "data": {
      "text/plain": [
       "30"
      ]
     },
     "execution_count": 116,
     "metadata": {},
     "output_type": "execute_result"
    }
   ],
   "source": [
    "make_adder(10)(20)"
   ]
  },
  {
   "cell_type": "markdown",
   "metadata": {
    "slideshow": {
     "slide_type": "notes"
    }
   },
   "source": [
    "functools.partial wäre schneller"
   ]
  },
  {
   "cell_type": "markdown",
   "metadata": {
    "slideshow": {
     "slide_type": "subslide"
    }
   },
   "source": [
    "## Falls jemand Indisch essen will"
   ]
  },
  {
   "cell_type": "code",
   "execution_count": 117,
   "metadata": {
    "collapsed": true,
    "slideshow": {
     "slide_type": "-"
    }
   },
   "outputs": [],
   "source": [
    "from toolz import curry\n",
    "\n",
    "@curry\n",
    "def add(x, y):\n",
    "    return x + y\n"
   ]
  },
  {
   "cell_type": "code",
   "execution_count": 118,
   "metadata": {
    "collapsed": false
   },
   "outputs": [
    {
     "data": {
      "text/plain": [
       "<function add at 0x7f605c016bf8>"
      ]
     },
     "execution_count": 118,
     "metadata": {},
     "output_type": "execute_result"
    }
   ],
   "source": [
    "add(10)"
   ]
  },
  {
   "cell_type": "code",
   "execution_count": 119,
   "metadata": {
    "collapsed": false
   },
   "outputs": [
    {
     "data": {
      "text/plain": [
       "30"
      ]
     },
     "execution_count": 119,
     "metadata": {},
     "output_type": "execute_result"
    }
   ],
   "source": [
    "add(10)(20)"
   ]
  },
  {
   "cell_type": "code",
   "execution_count": 123,
   "metadata": {
    "collapsed": false
   },
   "outputs": [
    {
     "data": {
      "text/plain": [
       "30"
      ]
     },
     "execution_count": 123,
     "metadata": {},
     "output_type": "execute_result"
    }
   ],
   "source": [
    "add(10, 20)"
   ]
  },
  {
   "cell_type": "markdown",
   "metadata": {
    "slideshow": {
     "slide_type": "slide"
    }
   },
   "source": [
    "## Dekoratoren\n",
    "```python\n",
    "@decorator\n",
    "def foo(): \n",
    "    ...\n",
    "```\n",
    "### ist “syntactic sugar” für\n",
    "\n",
    "```python\n",
    "def foo():\n",
    "    ...\n",
    "foo = decorator(foo)\n",
    "```"
   ]
  },
  {
   "cell_type": "markdown",
   "metadata": {
    "slideshow": {
     "slide_type": "notes"
    }
   },
   "source": [
    " @decorator(p1, p2) =\\> foo = decorator(p1, p2)(foo)"
   ]
  },
  {
   "cell_type": "markdown",
   "metadata": {
    "slideshow": {
     "slide_type": "slide"
    }
   },
   "source": [
    "## Kann als eine Art “Annotation” benutzt werden\n",
    "\n",
    "```python\n",
    "def marked(func):\n",
    "    func.my_marker = 42\n",
    "    return func\n",
    "\n",
    "@marked\n",
    "def foo(): ...\n",
    "\n",
    "def callback(name):\n",
    "    def register(func):\n",
    "        registry.register(func, name)\n",
    "        return func\n",
    "    return register\n",
    "\n",
    "@callback(\"foobar\")\n",
    "def my_callback(): ...\n",
    "```"
   ]
  },
  {
   "cell_type": "markdown",
   "metadata": {
    "slideshow": {
     "slide_type": "slide"
    }
   },
   "source": [
    "## Ermöglicht aber auch AOP-Pattern\n",
    "\n",
    "```python\n",
    "def cached(func):\n",
    "    cache = {}\n",
    "\n",
    "    def wrapper(*args):\n",
    "        if args in cache:\n",
    "            return cache[args]\n",
    "        result = func(*args)\n",
    "        cache[args] = result\n",
    "        return result\n",
    "\n",
    "    return wrapper\n",
    "\n",
    "@cached\n",
    "def something_expensive(p1, p2): ...\n",
    "```"
   ]
  },
  {
   "cell_type": "markdown",
   "metadata": {
    "slideshow": {
     "slide_type": "notes"
    }
   },
   "source": [
    "* normalerweise @wraps verwenden"
   ]
  },
  {
   "cell_type": "markdown",
   "metadata": {
    "slideshow": {
     "slide_type": "slide"
    }
   },
   "source": [
    "## ... und kompletten Schwachsinn\n"
   ]
  },
  {
   "cell_type": "code",
   "execution_count": 129,
   "metadata": {
    "collapsed": false
   },
   "outputs": [],
   "source": [
    "def troll(func):\n",
    "    return \"Problem?!\"\n",
    "\n",
    "@troll\n",
    "def foo(x):\n",
    "    return x"
   ]
  },
  {
   "cell_type": "code",
   "execution_count": 130,
   "metadata": {
    "collapsed": false
   },
   "outputs": [
    {
     "data": {
      "text/plain": [
       "'Problem?!'"
      ]
     },
     "execution_count": 130,
     "metadata": {},
     "output_type": "execute_result"
    }
   ],
   "source": [
    "foo"
   ]
  },
  {
   "cell_type": "markdown",
   "metadata": {
    "slideshow": {
     "slide_type": "slide"
    }
   },
   "source": [
    "# Klassen\n",
    "\n",
    "* Sind optional, Code liegt in Modulen/Dateien, dieser kann Klassen enthalten\n",
    "* Es gibt Mehrfachvererbung\n",
    "* Code in Klassen wird zum **Definitionszeitpunkt** ausgeführt\n"
   ]
  },
  {
   "cell_type": "markdown",
   "metadata": {
    "slideshow": {
     "slide_type": "slide"
    }
   },
   "source": [
    "### Spezielle Klassenmethoden\n",
    "\n",
    "Alle speziellen Klassenmethoden beginnen und Enden mit doppeltem Unterstrich (\"dunder\")\n",
    "\n",
    "Ein paar Interessante:\n",
    "\n",
    "| Name | Beschreibung |\n",
    "|------|--------------|\n",
    "|`__init__`|Initializer/\"Konstruktur\" (heißt immer gleich)|\n",
    "|`__new__`|Erzeugt neue Instanz der Klasse (selten benutzt)|\n",
    "|`__del__`|Finalizer/\"Destruktor\" (wie bei Java sollte er vermieden werden)|\n",
    "|`__str__`|\"`toString`\"|\n",
    "|`__repr__`|Technische Repräsentation als String (keine Frage mehr, ob `toString` nun fürs Debuggen oder für die Anzeige da sein sollte!)|\n",
    "|`__add__`| Addition mit einem anderen Objekt (Instanz + x), gibt auch \\_\\_mul\\_\\_ etc |\n",
    "|`__radd__`| Addition mit einem anderen Objekt, wenn linke Seite kein \\_\\_add\\_\\_ hat (x + Instanz)|\n",
    "|`__iadd__`| Inline add: `foo += 42` wird zu `foo = foo.__iadd__(42)` falls definiert\n",
    "|`__hash__`| \"`hashcode`\" |\n",
    "|`__eq__`| \"`equals`\" |\n",
    "|`__lt__`| \"<\" |\n"
   ]
  },
  {
   "cell_type": "markdown",
   "metadata": {
    "slideshow": {
     "slide_type": "notes"
    }
   },
   "source": [
    "`repr` Konvention: Copy-Pastbarer Code, um gleiches Objekt zu erzeugen, wenn nicht möglich, in \"<>\" einschließen"
   ]
  },
  {
   "cell_type": "markdown",
   "metadata": {
    "slideshow": {
     "slide_type": "slide"
    }
   },
   "source": [
    "## \"We're all consenting adults\"\n",
    "## Python kennt kein `protected` oder `private`\n",
    "* Konvention: Methoden (und Variablen) die mit Unterstrich beginnen sind Implementationsdetail\n",
    "* Methoden mit doppeltem Unterstrich (die nicht auch mit doppeltem Unterstrich enden), werden vom Interpreter umbenannt, um Namenskonflikte (bei Vererbung) zu vermeiden. `__foo` wird zu `_Klassenname__foo`"
   ]
  },
  {
   "cell_type": "markdown",
   "metadata": {
    "slideshow": {
     "slide_type": "slide"
    }
   },
   "source": [
    "## Es gibt keine Getter und Setter"
   ]
  },
  {
   "cell_type": "code",
   "execution_count": 1,
   "metadata": {
    "collapsed": false,
    "slideshow": {
     "slide_type": "-"
    }
   },
   "outputs": [],
   "source": [
    "import math\n",
    "\n",
    "class Circle:\n",
    "    def __init__(self, diameter):\n",
    "        self.diameter = diameter\n",
    "        \n",
    "    def area(self):\n",
    "        return math.pi * (self.diameter/2) ** 2"
   ]
  },
  {
   "cell_type": "code",
   "execution_count": 2,
   "metadata": {
    "collapsed": false
   },
   "outputs": [
    {
     "name": "stdout",
     "output_type": "stream",
     "text": [
      "10.0 78.53981633974483\n"
     ]
    }
   ],
   "source": [
    "circ = Circle(10.)\n",
    "print(circ.diameter, circ.area())"
   ]
  },
  {
   "cell_type": "markdown",
   "metadata": {
    "slideshow": {
     "slide_type": "slide"
    }
   },
   "source": [
    "## Nun wird refaktorisiert"
   ]
  },
  {
   "cell_type": "code",
   "execution_count": 3,
   "metadata": {
    "collapsed": true
   },
   "outputs": [],
   "source": [
    "class Circle:\n",
    "    def __init__(self, diameter):\n",
    "        self.radius = diameter / 2\n",
    "        \n",
    "    def area(self):\n",
    "        return math.pi * self.radius ** 2"
   ]
  },
  {
   "cell_type": "markdown",
   "metadata": {
    "slideshow": {
     "slide_type": "fragment"
    }
   },
   "source": [
    "Glückwunsch! Unsere neue Klasse kann nicht mehr von altem Code benutzt werden und die Benutzer wechseln zu einer anderen Library! Endlich keine lästigen User mehr!"
   ]
  },
  {
   "cell_type": "code",
   "execution_count": 68,
   "metadata": {
    "collapsed": false
   },
   "outputs": [
    {
     "ename": "AttributeError",
     "evalue": "'Circle' object has no attribute 'diameter'",
     "output_type": "error",
     "traceback": [
      "\u001b[1;31m---------------------------------------------------------------------------\u001b[0m",
      "\u001b[1;31mAttributeError\u001b[0m                            Traceback (most recent call last)",
      "\u001b[1;32m<ipython-input-68-9efeda352e31>\u001b[0m in \u001b[0;36m<module>\u001b[1;34m()\u001b[0m\n\u001b[0;32m      1\u001b[0m \u001b[0mcirc\u001b[0m \u001b[1;33m=\u001b[0m \u001b[0mCircle\u001b[0m\u001b[1;33m(\u001b[0m\u001b[1;36m10.\u001b[0m\u001b[1;33m)\u001b[0m\u001b[1;33m\u001b[0m\u001b[0m\n\u001b[1;32m----> 2\u001b[1;33m \u001b[0mprint\u001b[0m\u001b[1;33m(\u001b[0m\u001b[0mcirc\u001b[0m\u001b[1;33m.\u001b[0m\u001b[0mdiameter\u001b[0m\u001b[1;33m,\u001b[0m \u001b[0mcirc\u001b[0m\u001b[1;33m.\u001b[0m\u001b[0marea\u001b[0m\u001b[1;33m(\u001b[0m\u001b[1;33m)\u001b[0m\u001b[1;33m)\u001b[0m\u001b[1;33m\u001b[0m\u001b[0m\n\u001b[0m",
      "\u001b[1;31mAttributeError\u001b[0m: 'Circle' object has no attribute 'diameter'"
     ]
    }
   ],
   "source": [
    "circ = Circle(10.)\n",
    "print(circ.diameter, circ.area())"
   ]
  },
  {
   "cell_type": "markdown",
   "metadata": {
    "slideshow": {
     "slide_type": "slide"
    }
   },
   "source": [
    "## Properties to the rescue"
   ]
  },
  {
   "cell_type": "code",
   "execution_count": 3,
   "metadata": {
    "collapsed": true
   },
   "outputs": [],
   "source": [
    "class Circle:\n",
    "    def __init__(self, diameter):\n",
    "        self.radius = diameter / 2\n",
    "        \n",
    "    def area(self):\n",
    "        return math.pi * self.radius ** 2\n",
    "    \n",
    "    @property\n",
    "    def diameter(self):\n",
    "        return self.radius * 2"
   ]
  },
  {
   "cell_type": "code",
   "execution_count": 4,
   "metadata": {
    "collapsed": false
   },
   "outputs": [
    {
     "ename": "AttributeError",
     "evalue": "can't set attribute",
     "output_type": "error",
     "traceback": [
      "\u001b[1;31m---------------------------------------------------------------------------\u001b[0m",
      "\u001b[1;31mAttributeError\u001b[0m                            Traceback (most recent call last)",
      "\u001b[1;32m<ipython-input-4-1cbf754f99b5>\u001b[0m in \u001b[0;36m<module>\u001b[1;34m()\u001b[0m\n\u001b[0;32m      1\u001b[0m \u001b[0mcirc\u001b[0m \u001b[1;33m=\u001b[0m \u001b[0mCircle\u001b[0m\u001b[1;33m(\u001b[0m\u001b[1;36m10.\u001b[0m\u001b[1;33m)\u001b[0m\u001b[1;33m\u001b[0m\u001b[0m\n\u001b[1;32m----> 2\u001b[1;33m \u001b[0mcirc\u001b[0m\u001b[1;33m.\u001b[0m\u001b[0mdiameter\u001b[0m \u001b[1;33m=\u001b[0m \u001b[1;36m42\u001b[0m\u001b[1;33m\u001b[0m\u001b[0m\n\u001b[0m\u001b[0;32m      3\u001b[0m \u001b[0mprint\u001b[0m\u001b[1;33m(\u001b[0m\u001b[0mcirc\u001b[0m\u001b[1;33m.\u001b[0m\u001b[0mdiameter\u001b[0m\u001b[1;33m,\u001b[0m \u001b[0mcirc\u001b[0m\u001b[1;33m.\u001b[0m\u001b[0marea\u001b[0m\u001b[1;33m(\u001b[0m\u001b[1;33m)\u001b[0m\u001b[1;33m)\u001b[0m\u001b[1;33m\u001b[0m\u001b[0m\n",
      "\u001b[1;31mAttributeError\u001b[0m: can't set attribute"
     ]
    }
   ],
   "source": [
    "circ = Circle(10.)\n",
    "circ.diameter = 42 \n",
    "print(circ.diameter, circ.area())"
   ]
  },
  {
   "cell_type": "markdown",
   "metadata": {
    "slideshow": {
     "slide_type": "slide"
    }
   },
   "source": [
    "## Code wird zum Definitionszeitpunkt ausgeführt\n",
    "### in der Regel werden aber nur Funktionen definiert"
   ]
  },
  {
   "cell_type": "code",
   "execution_count": 5,
   "metadata": {
    "collapsed": false
   },
   "outputs": [
    {
     "name": "stdout",
     "output_type": "stream",
     "text": [
      "Ich werde direkt ausgeführt\n"
     ]
    }
   ],
   "source": [
    "class MeineKlasse:\n",
    "    \n",
    "    print(\"Ich werde direkt ausgeführt\")\n",
    "    wert = 42\n",
    "    \n",
    "    def foo(self):\n",
    "        print(\"Ich nur, wenn jemand foo aufruft. Self ist\", self)"
   ]
  },
  {
   "cell_type": "code",
   "execution_count": 6,
   "metadata": {
    "collapsed": false
   },
   "outputs": [
    {
     "name": "stdout",
     "output_type": "stream",
     "text": [
      "Ich nur, wenn jemand foo aufruft. Self ist <__main__.MeineKlasse object at 0x7f1fe8ba29b0>\n"
     ]
    }
   ],
   "source": [
    "instanz = MeineKlasse()\n",
    "instanz.foo()"
   ]
  },
  {
   "cell_type": "markdown",
   "metadata": {
    "slideshow": {
     "slide_type": "slide"
    }
   },
   "source": [
    "## Das kann manchmal ganz nützlich sein"
   ]
  },
  {
   "cell_type": "code",
   "execution_count": 37,
   "metadata": {
    "collapsed": false
   },
   "outputs": [],
   "source": [
    "import sys\n",
    "class ProcessManager:\n",
    "    \n",
    "    if sys.platform == 'win32':\n",
    "        def kill_process(self, pid):\n",
    "            ... # Windows specific stuff\n",
    "            \n",
    "    else:\n",
    "        def kill_process(self, pid):\n",
    "            ... # Unixiod stuff\n",
    "             "
   ]
  },
  {
   "cell_type": "markdown",
   "metadata": {},
   "source": [
    "Genauso wie (Präprozessor-)Makros sollte (und wird) es sehr sparsam verwendet werden. (Außerdem wäre unser Beispiel wohl keine Klasse, sondern ein Modul gewesen)"
   ]
  },
  {
   "cell_type": "markdown",
   "metadata": {
    "slideshow": {
     "slide_type": "slide"
    }
   },
   "source": [
    "## Klassen sind Namespaces"
   ]
  },
  {
   "cell_type": "code",
   "execution_count": 16,
   "metadata": {
    "collapsed": false,
    "scrolled": false
   },
   "outputs": [
    {
     "data": {
      "text/plain": [
       "['__class__',\n",
       " '__delattr__',\n",
       " '__dict__',\n",
       " '__dir__',\n",
       " '__doc__',\n",
       " '__eq__',\n",
       " '__format__',\n",
       " '__ge__',\n",
       " '__getattribute__',\n",
       " '__gt__',\n",
       " '__hash__',\n",
       " '__init__',\n",
       " '__le__',\n",
       " '__lt__',\n",
       " '__module__',\n",
       " '__ne__',\n",
       " '__new__',\n",
       " '__reduce__',\n",
       " '__reduce_ex__',\n",
       " '__repr__',\n",
       " '__setattr__',\n",
       " '__sizeof__',\n",
       " '__str__',\n",
       " '__subclasshook__',\n",
       " '__weakref__',\n",
       " 'foo',\n",
       " 'wert']"
      ]
     },
     "execution_count": 16,
     "metadata": {},
     "output_type": "execute_result"
    }
   ],
   "source": [
    "dir(MeineKlasse)"
   ]
  },
  {
   "cell_type": "code",
   "execution_count": 38,
   "metadata": {
    "collapsed": false
   },
   "outputs": [
    {
     "data": {
      "text/plain": [
       "<function __main__.MeineKlasse.foo>"
      ]
     },
     "execution_count": 38,
     "metadata": {},
     "output_type": "execute_result"
    }
   ],
   "source": [
    "MeineKlasse.foo"
   ]
  },
  {
   "cell_type": "code",
   "execution_count": 40,
   "metadata": {
    "collapsed": false
   },
   "outputs": [
    {
     "data": {
      "text/plain": [
       "<bound method MeineKlasse.foo of <__main__.MeineKlasse object at 0x7efc1c1aaba8>>"
      ]
     },
     "execution_count": 40,
     "metadata": {},
     "output_type": "execute_result"
    }
   ],
   "source": [
    "instanz.foo"
   ]
  },
  {
   "cell_type": "markdown",
   "metadata": {
    "slideshow": {
     "slide_type": "slide"
    }
   },
   "source": [
    "## Lookup"
   ]
  },
  {
   "cell_type": "code",
   "execution_count": 46,
   "metadata": {
    "collapsed": false
   },
   "outputs": [
    {
     "name": "stdout",
     "output_type": "stream",
     "text": [
      "Ich nur, wenn jemand foo aufruft. Self ist <__main__.MeineKlasse object at 0x7efc1c1ba3c8>\n"
     ]
    }
   ],
   "source": [
    "instanz.foo()"
   ]
  },
  {
   "cell_type": "markdown",
   "metadata": {},
   "source": [
    "ist (in unserem Fall) dasselbe wie"
   ]
  },
  {
   "cell_type": "code",
   "execution_count": 47,
   "metadata": {
    "collapsed": false
   },
   "outputs": [
    {
     "name": "stdout",
     "output_type": "stream",
     "text": [
      "Ich nur, wenn jemand foo aufruft. Self ist <__main__.MeineKlasse object at 0x7efc1c1ba3c8>\n"
     ]
    }
   ],
   "source": [
    "MeineKlasse.foo(instanz)"
   ]
  },
  {
   "cell_type": "markdown",
   "metadata": {
    "slideshow": {
     "slide_type": "slide"
    }
   },
   "source": [
    "### `class` ist strenggenommen auch nur syntactic sugar\n"
   ]
  },
  {
   "cell_type": "code",
   "execution_count": 47,
   "metadata": {
    "collapsed": true
   },
   "outputs": [],
   "source": [
    "class Base: pass"
   ]
  },
  {
   "cell_type": "code",
   "execution_count": 48,
   "metadata": {
    "collapsed": true
   },
   "outputs": [],
   "source": [
    "class Foo(Base):\n",
    "    def bar(self, x):\n",
    "        print(\"Hallo von \", self, \", x=\", x, sep='')"
   ]
  },
  {
   "cell_type": "code",
   "execution_count": 49,
   "metadata": {
    "collapsed": false
   },
   "outputs": [
    {
     "name": "stdout",
     "output_type": "stream",
     "text": [
      "Hallo von <__main__.Foo object at 0x000000FB7F48E5F8>, x=42\n"
     ]
    }
   ],
   "source": [
    "foo = Foo()\n",
    "foo.bar(42)"
   ]
  },
  {
   "cell_type": "code",
   "execution_count": 50,
   "metadata": {
    "collapsed": true
   },
   "outputs": [],
   "source": [
    "def create_Foo_class():\n",
    "    def bar(self, x):\n",
    "        print(\"Hallo von \", self, \", x=\", x, sep='')\n",
    "        \n",
    "    return type(\"Foo\", (Base,), locals())\n",
    "Foo = create_Foo_class()"
   ]
  },
  {
   "cell_type": "code",
   "execution_count": 46,
   "metadata": {
    "collapsed": false
   },
   "outputs": [
    {
     "name": "stdout",
     "output_type": "stream",
     "text": [
      "Hallo von <__main__.Foo object at 0x000000FB7F471E10>, x=42\n"
     ]
    }
   ],
   "source": [
    "foo = Foo()\n",
    "foo.bar(42)"
   ]
  },
  {
   "cell_type": "markdown",
   "metadata": {
    "slideshow": {
     "slide_type": "slide"
    }
   },
   "source": [
    "### falls unbedingt notwendig, kann man also programmatisch eigene Klassen erzeugen"
   ]
  },
  {
   "cell_type": "code",
   "execution_count": 16,
   "metadata": {
    "collapsed": false
   },
   "outputs": [
    {
     "name": "stdout",
     "output_type": "stream",
     "text": [
      "Hi from <__main__.Wtf object at 0x7f51d80536a0>\n"
     ]
    }
   ],
   "source": [
    "def create_Wtf_class():\n",
    "    def say_hi(self):\n",
    "        print(\"Hi from\", self)\n",
    "        \n",
    "    classdict = {\n",
    "        name: say_hi\n",
    "        for name in (\"foo\", \"bar\", \"baz\")\n",
    "    }\n",
    "\n",
    "    return type(\"Wtf\", (), classdict)\n",
    "\n",
    "Wtf = create_Wtf_class()\n",
    "wtf = Wtf()\n",
    "wtf.bar()"
   ]
  },
  {
   "cell_type": "markdown",
   "metadata": {},
   "source": [
    "(Sonst gäbe es auch noch `eval`. Ist aber wie in JS in der Regel auch in Python evil)"
   ]
  },
  {
   "cell_type": "markdown",
   "metadata": {
    "slideshow": {
     "slide_type": "slide"
    }
   },
   "source": [
    "### Wird z. B. von odoo benutzt, um Vererbung anzupassen\n",
    "\n",
    "* Odoo addons definieren im `__openerp__.py` die addons, von denen sie abhängen (in einer *geordneten* Liste)\n",
    "* Eine Model-Klasse kann dann wie folgt aussehen"
   ]
  },
  {
   "cell_type": "markdown",
   "metadata": {
    "slideshow": {
     "slide_type": "slide"
    }
   },
   "source": [
    "```python\n",
    "class ExtraPartnerFieldsAndChangeName(models.Model):\n",
    "    _inherit = 'res.partner'\n",
    "    \n",
    "    def name_get(self, cr, uid, ids, context=None):\n",
    "        # boring implementation here\n",
    "\n",
    "    also_knows = fields.Many2many(\"res.partner\", relation=\"res_partner_res_partner_also_knows\",\n",
    "            column1=\"partner1\", column2=\"partner2\", index=True, domain=[('is_company', '=', False)])\n",
    "    xing = fields.Char()\n",
    "    ...\n",
    "```\n",
    "\n",
    "Das \"res.partner\" Model wird dadurch um die Felder `also_knows` und `xing` erweitert. Außerdem wird `name_get`\n",
    "überschrieben, um ein anderes Format zu wählen. `name_get` kann aber `super()`.name_get nutzen, in dem Falle\n",
    "wird dann an das nächste Addon in der Kette verwiesen."
   ]
  },
  {
   "cell_type": "markdown",
   "metadata": {
    "slideshow": {
     "slide_type": "slide"
    }
   },
   "source": [
    "# Mehrfachvererbung\n",
    "\n",
    "* Python unterstützt Mehrfachvererbung mit einem durchdachten System der MRO (Method Resolution Order)\n",
    "* Sehr praktisch für Mixin Pattern (z. B. `ListBasedSet`)\n",
    "* Wie alles in Python kann man sich diese Order direkt anschauen (und sogar selbst (einmalig) definieren)\n",
    "\n",
    "Im Falle von `MeineKlasse` ist sie noch sehr langweilig:"
   ]
  },
  {
   "cell_type": "code",
   "execution_count": 5,
   "metadata": {
    "collapsed": false
   },
   "outputs": [
    {
     "data": {
      "text/plain": [
       "[__main__.MeineKlasse, object]"
      ]
     },
     "execution_count": 5,
     "metadata": {},
     "output_type": "execute_result"
    }
   ],
   "source": [
    "MeineKlasse.mro()"
   ]
  },
  {
   "cell_type": "markdown",
   "metadata": {
    "collapsed": true,
    "slideshow": {
     "slide_type": "slide"
    }
   },
   "source": [
    "# Multiple inheritance done right\n",
    "## aka. `super` considered super\n",
    "\n",
    "Klassisches Problem bei Mehrfachvererbung: das Diamond Pattern"
   ]
  },
  {
   "cell_type": "code",
   "execution_count": 9,
   "metadata": {
    "collapsed": false,
    "slideshow": {
     "slide_type": "skip"
    }
   },
   "outputs": [],
   "source": [
    "%load_ext gvmagic"
   ]
  },
  {
   "cell_type": "code",
   "execution_count": 10,
   "metadata": {
    "collapsed": false
   },
   "outputs": [
    {
     "data": {
      "image/svg+xml": [
       "<?xml version=\"1.0\" encoding=\"UTF-8\" standalone=\"no\"?>\n",
       "<!DOCTYPE svg PUBLIC \"-//W3C//DTD SVG 1.1//EN\"\n",
       " \"http://www.w3.org/Graphics/SVG/1.1/DTD/svg11.dtd\">\n",
       "<!-- Generated by graphviz version 2.38.0 (20140413.2041)\n",
       " -->\n",
       "<!-- Title: %3 Pages: 1 -->\n",
       "<svg width=\"134pt\" height=\"188pt\"\n",
       " viewBox=\"0.00 0.00 134.00 188.00\" xmlns=\"http://www.w3.org/2000/svg\" xmlns:xlink=\"http://www.w3.org/1999/xlink\">\n",
       "<g id=\"graph0\" class=\"graph\" transform=\"scale(1 1) rotate(0) translate(4 184)\">\n",
       "<title>%3</title>\n",
       "<polygon fill=\"white\" stroke=\"none\" points=\"-4,4 -4,-184 130,-184 130,4 -4,4\"/>\n",
       "<!-- A -->\n",
       "<g id=\"node1\" class=\"node\"><title>A</title>\n",
       "<ellipse fill=\"none\" stroke=\"black\" cx=\"63\" cy=\"-162\" rx=\"27\" ry=\"18\"/>\n",
       "<text text-anchor=\"middle\" x=\"63\" y=\"-158.3\" font-family=\"Times,serif\" font-size=\"14.00\">A</text>\n",
       "</g>\n",
       "<!-- B -->\n",
       "<g id=\"node2\" class=\"node\"><title>B</title>\n",
       "<ellipse fill=\"none\" stroke=\"black\" cx=\"27\" cy=\"-90\" rx=\"27\" ry=\"18\"/>\n",
       "<text text-anchor=\"middle\" x=\"27\" y=\"-86.3\" font-family=\"Times,serif\" font-size=\"14.00\">B</text>\n",
       "</g>\n",
       "<!-- A&#45;&gt;B -->\n",
       "<g id=\"edge1\" class=\"edge\"><title>A&#45;&gt;B</title>\n",
       "<path fill=\"none\" stroke=\"black\" d=\"M54.6504,-144.765C50.2885,-136.283 44.8531,-125.714 39.9587,-116.197\"/>\n",
       "<polygon fill=\"black\" stroke=\"black\" points=\"42.9904,-114.439 35.3043,-107.147 36.7654,-117.641 42.9904,-114.439\"/>\n",
       "</g>\n",
       "<!-- C -->\n",
       "<g id=\"node3\" class=\"node\"><title>C</title>\n",
       "<ellipse fill=\"none\" stroke=\"black\" cx=\"99\" cy=\"-90\" rx=\"27\" ry=\"18\"/>\n",
       "<text text-anchor=\"middle\" x=\"99\" y=\"-86.3\" font-family=\"Times,serif\" font-size=\"14.00\">C</text>\n",
       "</g>\n",
       "<!-- A&#45;&gt;C -->\n",
       "<g id=\"edge2\" class=\"edge\"><title>A&#45;&gt;C</title>\n",
       "<path fill=\"none\" stroke=\"black\" d=\"M71.3496,-144.765C75.7115,-136.283 81.1469,-125.714 86.0413,-116.197\"/>\n",
       "<polygon fill=\"black\" stroke=\"black\" points=\"89.2346,-117.641 90.6957,-107.147 83.0096,-114.439 89.2346,-117.641\"/>\n",
       "</g>\n",
       "<!-- BC -->\n",
       "<g id=\"node4\" class=\"node\"><title>BC</title>\n",
       "<ellipse fill=\"none\" stroke=\"black\" cx=\"63\" cy=\"-18\" rx=\"27\" ry=\"18\"/>\n",
       "<text text-anchor=\"middle\" x=\"63\" y=\"-14.3\" font-family=\"Times,serif\" font-size=\"14.00\">BC</text>\n",
       "</g>\n",
       "<!-- B&#45;&gt;BC -->\n",
       "<g id=\"edge3\" class=\"edge\"><title>B&#45;&gt;BC</title>\n",
       "<path fill=\"none\" stroke=\"black\" d=\"M35.3496,-72.7646C39.7115,-64.2831 45.1469,-53.7144 50.0413,-44.1974\"/>\n",
       "<polygon fill=\"black\" stroke=\"black\" points=\"53.2346,-45.6409 54.6957,-35.1473 47.0096,-42.4395 53.2346,-45.6409\"/>\n",
       "</g>\n",
       "<!-- C&#45;&gt;BC -->\n",
       "<g id=\"edge4\" class=\"edge\"><title>C&#45;&gt;BC</title>\n",
       "<path fill=\"none\" stroke=\"black\" d=\"M90.6504,-72.7646C86.2885,-64.2831 80.8531,-53.7144 75.9587,-44.1974\"/>\n",
       "<polygon fill=\"black\" stroke=\"black\" points=\"78.9904,-42.4395 71.3043,-35.1473 72.7654,-45.6409 78.9904,-42.4395\"/>\n",
       "</g>\n",
       "</g>\n",
       "</svg>\n"
      ]
     },
     "metadata": {},
     "output_type": "display_data"
    }
   ],
   "source": [
    "%%dot\n",
    "digraph {\n",
    "    A -> {B; C} -> BC;\n",
    "}"
   ]
  },
  {
   "cell_type": "code",
   "execution_count": 52,
   "metadata": {
    "collapsed": true,
    "slideshow": {
     "slide_type": "slide"
    }
   },
   "outputs": [],
   "source": [
    "class A:\n",
    "    def save(self):\n",
    "        print(\"in A\")\n",
    "        print(\"Saving A stuff\")\n",
    "        \n",
    "class B(A):\n",
    "    def save(self):\n",
    "        print(\"in B\")\n",
    "        super().save()\n",
    "        print(\"Saving B stuff\")\n",
    "        \n",
    "class C(A):\n",
    "    def save(self):\n",
    "        print(\"in C\")\n",
    "        super().save()\n",
    "        print(\"Saving C stuff\")\n",
    "        \n",
    "class BC(B, C):\n",
    "    def save(self):\n",
    "        print(\"in BC\")\n",
    "        # Was passiert hier? Wird A.save etwa 2x aufgerufen?\n",
    "        super().save() \n",
    "        print(\"Saving BC stuff\")"
   ]
  },
  {
   "cell_type": "markdown",
   "metadata": {
    "slideshow": {
     "slide_type": "slide"
    }
   },
   "source": [
    "Python does \"The Right Thing\""
   ]
  },
  {
   "cell_type": "code",
   "execution_count": 8,
   "metadata": {
    "collapsed": false
   },
   "outputs": [
    {
     "name": "stdout",
     "output_type": "stream",
     "text": [
      "in BC\n",
      "in B\n",
      "in C\n",
      "in A\n",
      "Saving A stuff\n",
      "Saving C stuff\n",
      "Saving B stuff\n",
      "Saving BC stuff\n"
     ]
    }
   ],
   "source": [
    "bc = BC()\n",
    "bc.save()"
   ]
  },
  {
   "cell_type": "code",
   "execution_count": 9,
   "metadata": {
    "collapsed": false,
    "slideshow": {
     "slide_type": "-"
    }
   },
   "outputs": [
    {
     "data": {
      "text/plain": [
       "(__main__.BC, __main__.B, __main__.C, __main__.A, object)"
      ]
     },
     "execution_count": 9,
     "metadata": {},
     "output_type": "execute_result"
    }
   ],
   "source": [
    "BC.mro()"
   ]
  },
  {
   "cell_type": "markdown",
   "metadata": {
    "slideshow": {
     "slide_type": "slide"
    }
   },
   "source": [
    "* `super()` ist nicht umsonst eine Funktion. `next_in_chain()` wäre vom technischen ein besserer Name\n",
    "* Stellt sicher, dass jede Methode in der Chain nur ein einziges Mal aufgerufen wird\n",
    "* Bei mehreren Basisklassen wird von links nach rechts ausgewertet"
   ]
  },
  {
   "cell_type": "markdown",
   "metadata": {
    "slideshow": {
     "slide_type": "slide"
    }
   },
   "source": [
    "### \"In the face of ambiguity, refuse the temptation to guess\", Part Ⅱ\n",
    "\n",
    "* `BC` erbt von `B` und `C`, was ist wenn wir `CB` anders herum erben lassen und `BC_CB` von `BC` und `CB` ableiten?\n",
    "\n",
    "* Wird jetzt `B` vor `C` ausgewertet, wie von `BC` gefordert, oder `C` vor `B`? `BC` kommt schließlich zuerst"
   ]
  },
  {
   "cell_type": "code",
   "execution_count": 10,
   "metadata": {
    "collapsed": false
   },
   "outputs": [
    {
     "ename": "TypeError",
     "evalue": "Cannot create a consistent method resolution\norder (MRO) for bases C, B",
     "output_type": "error",
     "traceback": [
      "\u001b[1;31m---------------------------------------------------------------------------\u001b[0m",
      "\u001b[1;31mTypeError\u001b[0m                                 Traceback (most recent call last)",
      "\u001b[1;32m<ipython-input-10-eda483632c36>\u001b[0m in \u001b[0;36m<module>\u001b[1;34m()\u001b[0m\n\u001b[0;32m      1\u001b[0m \u001b[1;32mclass\u001b[0m \u001b[0mCB\u001b[0m\u001b[1;33m(\u001b[0m\u001b[0mC\u001b[0m\u001b[1;33m,\u001b[0m \u001b[0mB\u001b[0m\u001b[1;33m)\u001b[0m\u001b[1;33m:\u001b[0m \u001b[1;32mpass\u001b[0m\u001b[1;33m\u001b[0m\u001b[0m\n\u001b[1;32m----> 2\u001b[1;33m \u001b[1;32mclass\u001b[0m \u001b[0mBC_CB\u001b[0m\u001b[1;33m(\u001b[0m\u001b[0mBC\u001b[0m\u001b[1;33m,\u001b[0m \u001b[0mCB\u001b[0m\u001b[1;33m)\u001b[0m\u001b[1;33m:\u001b[0m \u001b[1;32mpass\u001b[0m\u001b[1;33m\u001b[0m\u001b[0m\n\u001b[0m",
      "\u001b[1;31mTypeError\u001b[0m: Cannot create a consistent method resolution\norder (MRO) for bases C, B"
     ]
    }
   ],
   "source": [
    "class CB(C, B): pass\n",
    "class BC_CB(BC, CB): pass "
   ]
  },
  {
   "cell_type": "code",
   "execution_count": 29,
   "metadata": {
    "collapsed": false,
    "slideshow": {
     "slide_type": "subslide"
    }
   },
   "outputs": [
    {
     "data": {
      "text/plain": [
       "(__main__.Z,\n",
       " __main__.K1,\n",
       " __main__.K2,\n",
       " __main__.K3,\n",
       " __main__.D,\n",
       " __main__.A,\n",
       " __main__.B,\n",
       " __main__.C,\n",
       " __main__.E,\n",
       " __main__.O,\n",
       " object)"
      ]
     },
     "execution_count": 29,
     "metadata": {},
     "output_type": "execute_result"
    }
   ],
   "source": [
    "class O: pass\n",
    "class A(O): pass\n",
    "class B(O): pass\n",
    "class C(O): pass\n",
    "class D(O): pass\n",
    "class E(O): pass\n",
    "class K1(A,B,C): pass\n",
    "class K2(D,B,E): pass\n",
    "class K3(D,A): pass\n",
    "class Z(K1,K2,K3): pass\n",
    "\n",
    "Z.__mro__"
   ]
  },
  {
   "cell_type": "markdown",
   "metadata": {
    "slideshow": {
     "slide_type": "slide"
    }
   },
   "source": [
    "* Wer's ganz genau wissen will: https://www.python.org/download/releases/2.3/mro/\n"
   ]
  },
  {
   "cell_type": "markdown",
   "metadata": {
    "slideshow": {
     "slide_type": "slide"
    }
   },
   "source": [
    "## Abstract Base Classes (ABC)\n",
    "\n",
    "-   Problem beim reinem Duck-Typing: was zeichnet eine Liste aus?\n",
    "\n",
    "    `len(x)` und `x[index]` werden auch von `dict` unterstützt\n",
    "\n",
    "-   `isinstance(x, list)` ist schlecht, was ist, wenn jemand ein\n",
    "    “listenähnliches” Objekt bastelt? Muss er von `list` erben?\n",
    "-   ABCs sind eine Kombination aus Interfaces und Type-Registry\n",
    "-   “a way to overload `isinstance()` and `issubclass()`”\n"
   ]
  },
  {
   "cell_type": "markdown",
   "metadata": {
    "slideshow": {
     "slide_type": "slide"
    }
   },
   "source": [
    "```python\n",
    "from collections import *\n",
    "\n",
    "isinstance([], Sequence) # True\n",
    "isinstance((), Sequence) # True\n",
    "isinstance('', Sequence) # True\n",
    "\n",
    "isinstance({}, Sequence) # False\n",
    "\n",
    "isinstance([], MutableSequence) # True\n",
    "isinstance((), MutableSequence) # False\n",
    "```"
   ]
  },
  {
   "cell_type": "markdown",
   "metadata": {
    "slideshow": {
     "slide_type": "slide"
    }
   },
   "source": [
    "### Type Registry"
   ]
  },
  {
   "cell_type": "code",
   "execution_count": 137,
   "metadata": {
    "collapsed": true
   },
   "outputs": [],
   "source": [
    "from collections import *\n",
    "class MeineTolleSequence:\n",
    "    pass\n",
    "\n",
    "a = MeineTolleSequence()"
   ]
  },
  {
   "cell_type": "code",
   "execution_count": 138,
   "metadata": {
    "collapsed": false
   },
   "outputs": [
    {
     "data": {
      "text/plain": [
       "False"
      ]
     },
     "execution_count": 138,
     "metadata": {},
     "output_type": "execute_result"
    }
   ],
   "source": [
    "isinstance(a, Sequence)"
   ]
  },
  {
   "cell_type": "code",
   "execution_count": 140,
   "metadata": {
    "collapsed": false
   },
   "outputs": [
    {
     "data": {
      "text/plain": [
       "__main__.MeineTolleSequence"
      ]
     },
     "execution_count": 140,
     "metadata": {},
     "output_type": "execute_result"
    }
   ],
   "source": [
    "Sequence.register(MeineTolleSequence)"
   ]
  },
  {
   "cell_type": "code",
   "execution_count": 141,
   "metadata": {
    "collapsed": false
   },
   "outputs": [
    {
     "data": {
      "text/plain": [
       "True"
      ]
     },
     "execution_count": 141,
     "metadata": {},
     "output_type": "execute_result"
    }
   ],
   "source": [
    "isinstance(a, Sequence)"
   ]
  },
  {
   "cell_type": "markdown",
   "metadata": {
    "slideshow": {
     "slide_type": "notes"
    }
   },
   "source": [
    "  Eigene Typen können natürlich auch definiert werden\n",
    "  \n",
    "  listset example"
   ]
  },
  {
   "cell_type": "markdown",
   "metadata": {
    "slideshow": {
     "slide_type": "slide"
    }
   },
   "source": [
    "## Die ABC können auch als Basis für eigene Implementierungen benutzt werden\n"
   ]
  },
  {
   "cell_type": "code",
   "execution_count": 53,
   "metadata": {
    "collapsed": false
   },
   "outputs": [],
   "source": [
    "import collections\n",
    "\n",
    "class ListBasedSet(collections.abc.Set):\n",
    "    ''' Alternate set implementation favoring space over speed\n",
    "         and not requiring the set elements to be hashable. '''\n",
    "    def __init__(self, iterable):\n",
    "        self.elements = lst = []\n",
    "        for value in iterable:\n",
    "             if value not in lst:\n",
    "                lst.append(value)\n",
    "                \n",
    "    \n",
    "    def __iter__(self):\n",
    "         return iter(self.elements)\n",
    "    \n",
    "    def __contains__(self, value):\n",
    "         return value in self.elements\n",
    "    \n",
    "    def __len__(self):\n",
    "         return len(self.elements)\n",
    "    \n",
    "    \n",
    "    def __repr__(self): # nicht zwingend notwendig\n",
    "         return 'ListBasedSet(%r)' % self.elements"
   ]
  },
  {
   "cell_type": "code",
   "execution_count": 54,
   "metadata": {
    "collapsed": false
   },
   "outputs": [
    {
     "data": {
      "text/plain": [
       "True"
      ]
     },
     "execution_count": 54,
     "metadata": {},
     "output_type": "execute_result"
    }
   ],
   "source": [
    "set1 = ListBasedSet([1, 2, 3, 4])\n",
    "3 in set1"
   ]
  },
  {
   "cell_type": "code",
   "execution_count": 55,
   "metadata": {
    "collapsed": false
   },
   "outputs": [
    {
     "data": {
      "text/plain": [
       "ListBasedSet([1, 4])"
      ]
     },
     "execution_count": 55,
     "metadata": {},
     "output_type": "execute_result"
    }
   ],
   "source": [
    "set1 & {1, 4, 7}"
   ]
  },
  {
   "cell_type": "markdown",
   "metadata": {
    "slideshow": {
     "slide_type": "slide"
    }
   },
   "source": [
    "# Context Manager\n",
    "\n",
    "Javas `AutoCloseable`, nur mächtiger, weil Context Manager auch auf Exceptions reagieren können. (`__enter__` und `__exit__`)\n",
    "\n",
    "```python\n",
    "with open(\"/etc/motd\") as motd: # Datei wird nach Ende des Blocks automatisch geschlossen\n",
    "    for line in motd:\n",
    "        print(line)\n",
    "\n",
    "with lock:\n",
    "    # \"synchronized\"\n",
    "    \n",
    "with transaction:\n",
    "    # Do stuff, in case of exception do rollback\n",
    "```"
   ]
  },
  {
   "cell_type": "markdown",
   "metadata": {
    "slideshow": {
     "slide_type": "slide"
    }
   },
   "source": [
    "## EAFP\n",
    "### \"It's Easier to Ask For Forgiveness Than For Permission\"\n",
    "\n",
    "In Java (und besonders in C) nutzt man \"Look before you leap\" (LBYL), Python nutzt EAFP und nutzt Exceptions zum Kontrollfluss.\n",
    "\n",
    "#### Java\n",
    "\n",
    "```java\n",
    "String name = foo.get(\"name\")\n",
    "if (name != null) {\n",
    "    System.out.println(String.format(\"Hallo %s\", name))\n",
    "} else {\n",
    "    System.out.println(\"War wohl nicht da...\")\n",
    "}```\n",
    "\n",
    "#### Python\n",
    "\n",
    "```python\n",
    "try:\n",
    "    name = foo[\"name\"]\n",
    "    print(\"Hallo %s\" % name)\n",
    "except KeyError:\n",
    "    print(\"War wohl nicht da...\")\n",
    "```"
   ]
  },
  {
   "cell_type": "markdown",
   "metadata": {
    "slideshow": {
     "slide_type": "slide"
    }
   },
   "source": [
    "### try/except/else/finally\n",
    "\n",
    "EAFP ist die empfohlene Art, Pythoncode zu schreiben. Python ist die einzige mir bekannte Sprache mit try/except/else.\n",
    "\n",
    "```python\n",
    "try:\n",
    "    # tue irgendwass\n",
    "except SomeException as e:\n",
    "    # handle\n",
    "except SomeOtherError as e:\n",
    "    # handle\n",
    "else:\n",
    "    # Block wird ausgeführt, wenn keine Exception auftrat\n",
    "finally:\n",
    "    # Block wird immer ausgeführt\n",
    "```\n"
   ]
  },
  {
   "cell_type": "markdown",
   "metadata": {
    "slideshow": {
     "slide_type": "subslide"
    }
   },
   "source": [
    "Ein `try`/`else` ohne `except` wäre sinnfrei und ist daher verboten"
   ]
  },
  {
   "cell_type": "code",
   "execution_count": 2,
   "metadata": {
    "collapsed": false
   },
   "outputs": [
    {
     "ename": "SyntaxError",
     "evalue": "invalid syntax (<ipython-input-2-482b41a00edd>, line 3)",
     "output_type": "error",
     "traceback": [
      "\u001b[1;36m  File \u001b[1;32m\"<ipython-input-2-482b41a00edd>\"\u001b[1;36m, line \u001b[1;32m3\u001b[0m\n\u001b[1;33m    else:\u001b[0m\n\u001b[1;37m       ^\u001b[0m\n\u001b[1;31mSyntaxError\u001b[0m\u001b[1;31m:\u001b[0m invalid syntax\n"
     ]
    }
   ],
   "source": [
    "try:\n",
    "    pass\n",
    "else:\n",
    "    pass"
   ]
  },
  {
   "cell_type": "markdown",
   "metadata": {
    "slideshow": {
     "slide_type": "slide"
    }
   },
   "source": [
    "## Remember: Python is a dynamic language\n",
    "\n",
    "#### Manche Konstrukte sind ungewohnt und nicht offensichtlich, wenn man statische Sprachen gewohnt ist."
   ]
  },
  {
   "cell_type": "code",
   "execution_count": 24,
   "metadata": {
    "collapsed": false
   },
   "outputs": [],
   "source": [
    "# Gestelltes Beispiel, normalerweise würde man einen Generator nutzen,\n",
    "# die kommen aber erst später\n",
    "def call_until_exception(func, values, exception):\n",
    "    lst = []\n",
    "    for v in values:\n",
    "        try:\n",
    "            lst.append(func(v))\n",
    "        except Exception as e:\n",
    "            if isinstance(e, exception):\n",
    "                break\n",
    "            else:\n",
    "                raise\n",
    "    return lst"
   ]
  },
  {
   "cell_type": "markdown",
   "metadata": {
    "slideshow": {
     "slide_type": "slide"
    }
   },
   "source": [
    "#### Tut was es soll, aber ist unschön."
   ]
  },
  {
   "cell_type": "code",
   "execution_count": 29,
   "metadata": {
    "collapsed": false
   },
   "outputs": [
    {
     "data": {
      "text/plain": [
       "[1.0, 0.5, 0.3333333333333333]"
      ]
     },
     "execution_count": 29,
     "metadata": {},
     "output_type": "execute_result"
    }
   ],
   "source": [
    "def foo(x):\n",
    "    return 1/x\n",
    "\n",
    "call_until_exception(foo, [1,2,3,0,4,5,6], ZeroDivisionError)"
   ]
  },
  {
   "cell_type": "markdown",
   "metadata": {
    "slideshow": {
     "slide_type": "fragment"
    }
   },
   "source": [
    "#### Es geht auch einfacher"
   ]
  },
  {
   "cell_type": "code",
   "execution_count": 28,
   "metadata": {
    "collapsed": true
   },
   "outputs": [],
   "source": [
    "def call_until_exception(func, values, exception):\n",
    "    lst = []\n",
    "    for v in values:\n",
    "        try:\n",
    "            lst.append(func(v))\n",
    "        except exception:\n",
    "            break\n",
    "    return lst"
   ]
  },
  {
   "cell_type": "markdown",
   "metadata": {
    "collapsed": true,
    "slideshow": {
     "slide_type": "slide"
    }
   },
   "source": [
    "# Metaklassen (Advanced ~~Magic~~ Stuff)\n",
    "\n",
    "* Objekte sind Instanzen von Klassen\n",
    "* Klassen sind Instanzen von Metaklassen\n",
    "* \"You'll understand it once you need it\"\n",
    "* Wird selten benötigt, ist dann aber sehr mächtig"
   ]
  },
  {
   "cell_type": "markdown",
   "metadata": {
    "collapsed": true,
    "slideshow": {
     "slide_type": "slide"
    }
   },
   "source": [
    "## Wir basteln uns eine case-Klasse\n",
    "### Zumindest ein bisschen"
   ]
  },
  {
   "cell_type": "markdown",
   "metadata": {},
   "source": [
    "Wir wollen folgendes schreiben können:"
   ]
  },
  {
   "cell_type": "code",
   "execution_count": 18,
   "metadata": {
    "collapsed": true
   },
   "outputs": [],
   "source": [
    "class Foo(Case):\n",
    "    _items = {\n",
    "        \"a\": int,\n",
    "        \"b\": str\n",
    "    }\n",
    "    _name = \"Foo\""
   ]
  },
  {
   "cell_type": "code",
   "execution_count": 20,
   "metadata": {
    "collapsed": false,
    "slideshow": {
     "slide_type": "slide"
    }
   },
   "outputs": [
    {
     "data": {
      "text/plain": [
       "Foo(b='hallo', a=42)"
      ]
     },
     "execution_count": 20,
     "metadata": {},
     "output_type": "execute_result"
    }
   ],
   "source": [
    "foo = Foo(a=42, b=\"hallo\")\n",
    "foo"
   ]
  },
  {
   "cell_type": "code",
   "execution_count": 21,
   "metadata": {
    "collapsed": false
   },
   "outputs": [
    {
     "data": {
      "text/plain": [
       "'hallo'"
      ]
     },
     "execution_count": 21,
     "metadata": {},
     "output_type": "execute_result"
    }
   ],
   "source": [
    "foo.b"
   ]
  },
  {
   "cell_type": "code",
   "execution_count": 17,
   "metadata": {
    "collapsed": true,
    "slideshow": {
     "slide_type": "slide"
    }
   },
   "outputs": [],
   "source": [
    "class Case:\n",
    "    \n",
    "    def __init__(self, **kwargs):\n",
    "        for k, v in kwargs.items():\n",
    "            try:\n",
    "                if not isinstance(v, self._items[k]):\n",
    "                    raise ValueError(repr(v) + \" for \"+ k + \" not of type \" + repr(self._items[k]))\n",
    "                else:\n",
    "                    # eval(\"self.\" + k + \" = \" + v)\n",
    "                    setattr(self, k, v)  #setattr(obj, \"X\", bla) -> obj.X = bla\n",
    "            except KeyError:\n",
    "                raise ValueError(\"unknown key \" + k)    \n",
    "\n",
    "    def __repr__(self):\n",
    "        return \"{name}({items})\".format(\n",
    "            name=self._name,\n",
    "            items=(\", \".join(k + \"=\" + repr(getattr(self, k)) for k in self._items)))\n",
    "                 "
   ]
  },
  {
   "cell_type": "markdown",
   "metadata": {
    "slideshow": {
     "slide_type": "slide"
    }
   },
   "source": [
    "### Beautiful Is Better Than Ugly, Part II\n",
    "\n",
    "Geht, ist aber hässlich, schöner wäre sowas wie\n",
    "```python\n",
    "class Foo(Case):\n",
    "    a = int\n",
    "    b = str\n",
    "```"
   ]
  },
  {
   "cell_type": "markdown",
   "metadata": {
    "slideshow": {
     "slide_type": "slide"
    }
   },
   "source": [
    "## Metaclasses to the rescue"
   ]
  },
  {
   "cell_type": "code",
   "execution_count": 45,
   "metadata": {
    "collapsed": false,
    "slideshow": {
     "slide_type": "-"
    }
   },
   "outputs": [],
   "source": [
    "from collections import OrderedDict\n",
    "\n",
    "class CaseMeta(type):\n",
    "    # damit Definitionsreihenfolge gespeichert wird,\n",
    "    # nicht zwingend nötig\n",
    "    @classmethod\n",
    "    def __prepare__(metacls, name, bases):\n",
    "        return OrderedDict()\n",
    "    \n",
    "    def __new__(cls, name, bases, dict):\n",
    "        print(\"CaseMeta.new called with\", cls, name, bases, dict)\n",
    "        obj = super().__new__(cls, name, bases, dict)\n",
    "        obj._items = OrderedDict((k, v) for k,v in dict.items() if isinstance(v, type))\n",
    "        obj._name = name\n",
    "        return obj\n",
    "\n",
    "    # zur Veranschaulichung\n",
    "    def __init__(cls, *args):\n",
    "        print(\"CaseMeta.init called with\", args)"
   ]
  },
  {
   "cell_type": "code",
   "execution_count": 19,
   "metadata": {
    "collapsed": false,
    "slideshow": {
     "slide_type": "slide"
    }
   },
   "outputs": [
    {
     "ename": "NameError",
     "evalue": "name 'CaseMeta' is not defined",
     "output_type": "error",
     "traceback": [
      "\u001b[1;31m---------------------------------------------------------------------------\u001b[0m",
      "\u001b[1;31mNameError\u001b[0m                                 Traceback (most recent call last)",
      "\u001b[1;32m<ipython-input-19-fb208ba2c7e6>\u001b[0m in \u001b[0;36m<module>\u001b[1;34m()\u001b[0m\n\u001b[1;32m----> 1\u001b[1;33m \u001b[1;32mclass\u001b[0m \u001b[0mCase\u001b[0m\u001b[1;33m(\u001b[0m\u001b[0mmetaclass\u001b[0m\u001b[1;33m=\u001b[0m\u001b[0mCaseMeta\u001b[0m\u001b[1;33m)\u001b[0m\u001b[1;33m:\u001b[0m\u001b[1;33m\u001b[0m\u001b[0m\n\u001b[0m\u001b[0;32m      2\u001b[0m \u001b[1;33m\u001b[0m\u001b[0m\n\u001b[0;32m      3\u001b[0m     \u001b[1;32mdef\u001b[0m \u001b[0m__init__\u001b[0m\u001b[1;33m(\u001b[0m\u001b[0mself\u001b[0m\u001b[1;33m,\u001b[0m \u001b[1;33m**\u001b[0m\u001b[0mkwargs\u001b[0m\u001b[1;33m)\u001b[0m\u001b[1;33m:\u001b[0m\u001b[1;33m\u001b[0m\u001b[0m\n\u001b[0;32m      4\u001b[0m         \u001b[0mprint\u001b[0m\u001b[1;33m(\u001b[0m\u001b[1;34m\"Case.init called with \"\u001b[0m\u001b[1;33m,\u001b[0m \u001b[0mkwargs\u001b[0m\u001b[1;33m)\u001b[0m\u001b[1;33m\u001b[0m\u001b[0m\n\u001b[0;32m      5\u001b[0m         \u001b[1;32mfor\u001b[0m \u001b[0mk\u001b[0m\u001b[1;33m,\u001b[0m \u001b[0mv\u001b[0m \u001b[1;32min\u001b[0m \u001b[0mkwargs\u001b[0m\u001b[1;33m.\u001b[0m\u001b[0mitems\u001b[0m\u001b[1;33m(\u001b[0m\u001b[1;33m)\u001b[0m\u001b[1;33m:\u001b[0m\u001b[1;33m\u001b[0m\u001b[0m\n",
      "\u001b[1;31mNameError\u001b[0m: name 'CaseMeta' is not defined"
     ]
    }
   ],
   "source": [
    "class Case(metaclass=CaseMeta):\n",
    "    \n",
    "    def __init__(self, **kwargs):\n",
    "        print(\"Case.init called with \", kwargs)\n",
    "        for k, v in kwargs.items():\n",
    "            try:\n",
    "                if not isinstance(v, self._items[k]):\n",
    "                    raise ValueError(repr(v) + \" for \"+ k + \" not of type \" + repr(self._items[k]))\n",
    "                else:\n",
    "                    setattr(self, k, v)\n",
    "            except KeyError:\n",
    "                raise ValueError(\"unknown key \" + k)    \n",
    "\n",
    "    def __repr__(self):\n",
    "        return \"{name}({items})\".format(\n",
    "            name=self._name,\n",
    "            items=(\", \".join(k + \"=\" + repr(getattr(self, k)) for k in self._items)))\n",
    "                                    "
   ]
  },
  {
   "cell_type": "code",
   "execution_count": 47,
   "metadata": {
    "collapsed": false,
    "slideshow": {
     "slide_type": "-"
    }
   },
   "outputs": [
    {
     "name": "stdout",
     "output_type": "stream",
     "text": [
      "CaseMeta.new called with <class '__main__.CaseMeta'> Foo (<class '__main__.Case'>,) OrderedDict([('__module__', '__main__'), ('__qualname__', 'Foo'), ('a', <class 'int'>), ('b', <class 'str'>)])\n",
      "CaseMeta.init called with ('Foo', (<class '__main__.Case'>,), OrderedDict([('__module__', '__main__'), ('__qualname__', 'Foo'), ('a', <class 'int'>), ('b', <class 'str'>)]))\n"
     ]
    }
   ],
   "source": [
    "class Foo(Case):\n",
    "    a = int\n",
    "    b = str"
   ]
  },
  {
   "cell_type": "code",
   "execution_count": 48,
   "metadata": {
    "collapsed": false
   },
   "outputs": [
    {
     "name": "stdout",
     "output_type": "stream",
     "text": [
      "Case.init called with  {'b': '42', 'a': 4}\n"
     ]
    },
    {
     "data": {
      "text/plain": [
       "<Foo(a=4, b='42')>"
      ]
     },
     "execution_count": 48,
     "metadata": {},
     "output_type": "execute_result"
    }
   ],
   "source": [
    "Foo(a=4, b=\"42\")"
   ]
  },
  {
   "cell_type": "markdown",
   "metadata": {
    "slideshow": {
     "slide_type": "notes"
    }
   },
   "source": [
    "* \\_\\_new\\_\\_ kann auch in normalen Klassen benutzt werden"
   ]
  },
  {
   "cell_type": "markdown",
   "metadata": {
    "slideshow": {
     "slide_type": "slide"
    }
   },
   "source": [
    "## Wird z. B. bei SQLAlchemy benutzt"
   ]
  },
  {
   "cell_type": "markdown",
   "metadata": {},
   "source": [
    "```python\n",
    "Base = declarative_base()\n",
    "class User(Base):\n",
    "    __tablename__ = 'users'\n",
    "\n",
    "    id = Column(Integer, primary_key=True)\n",
    "    name = Column(String)\n",
    "    fullname = Column(String)\n",
    "    password = Column(String)\n",
    "\n",
    "    def __repr__(self):\n",
    "        return \"<User(name='%s', fullname='%s', password='%s')>\" % (\n",
    "                 self.name, self.fullname, self.password)\n",
    "```"
   ]
  },
  {
   "cell_type": "code",
   "execution_count": null,
   "metadata": {
    "collapsed": true
   },
   "outputs": [],
   "source": []
  },
  {
   "cell_type": "markdown",
   "metadata": {
    "slideshow": {
     "slide_type": "slide"
    }
   },
   "source": [
    "## Generatoren\n",
    "\n",
    "Eine Funktion wird ein Generator, wenn sie statt `return` das Keyword `yield` nutzt\n"
   ]
  },
  {
   "cell_type": "code",
   "execution_count": 49,
   "metadata": {
    "collapsed": true
   },
   "outputs": [],
   "source": [
    "def foo():\n",
    "    print(\"In foo, gebe Hallo zurück\")\n",
    "    yield \"Hallo\"\n",
    "    for x in \"Welt\":\n",
    "        print(\"In foo, gebe\", x, \"zurück\")\n",
    "        yield x"
   ]
  },
  {
   "cell_type": "code",
   "execution_count": 50,
   "metadata": {
    "collapsed": false
   },
   "outputs": [
    {
     "data": {
      "text/plain": [
       "<generator object foo at 0x7f95380411f8>"
      ]
     },
     "execution_count": 50,
     "metadata": {},
     "output_type": "execute_result"
    }
   ],
   "source": [
    "f = foo()\n",
    "f"
   ]
  },
  {
   "cell_type": "code",
   "execution_count": 51,
   "metadata": {
    "collapsed": false
   },
   "outputs": [
    {
     "name": "stdout",
     "output_type": "stream",
     "text": [
      "In foo, gebe Hallo zurück\n"
     ]
    },
    {
     "data": {
      "text/plain": [
       "'Hallo'"
      ]
     },
     "execution_count": 51,
     "metadata": {},
     "output_type": "execute_result"
    }
   ],
   "source": [
    "next(f)"
   ]
  },
  {
   "cell_type": "code",
   "execution_count": 52,
   "metadata": {
    "collapsed": false
   },
   "outputs": [
    {
     "name": "stdout",
     "output_type": "stream",
     "text": [
      "In foo, gebe W zurück\n"
     ]
    },
    {
     "data": {
      "text/plain": [
       "'W'"
      ]
     },
     "execution_count": 52,
     "metadata": {},
     "output_type": "execute_result"
    }
   ],
   "source": [
    "next(f)"
   ]
  },
  {
   "cell_type": "code",
   "execution_count": 53,
   "metadata": {
    "collapsed": false,
    "slideshow": {
     "slide_type": "subslide"
    }
   },
   "outputs": [
    {
     "name": "stdout",
     "output_type": "stream",
     "text": [
      "In foo, gebe e zurück\n",
      "In foo, gebe l zurück\n",
      "In foo, gebe t zurück\n"
     ]
    },
    {
     "data": {
      "text/plain": [
       "['e', 'l', 't']"
      ]
     },
     "execution_count": 53,
     "metadata": {},
     "output_type": "execute_result"
    }
   ],
   "source": [
    "list(f) # Bad Style, f is \"in progress\""
   ]
  },
  {
   "cell_type": "code",
   "execution_count": 54,
   "metadata": {
    "collapsed": false
   },
   "outputs": [
    {
     "name": "stdout",
     "output_type": "stream",
     "text": [
      "In foo, gebe Hallo zurück\n",
      "In foo, gebe W zurück\n",
      "In foo, gebe e zurück\n",
      "In foo, gebe l zurück\n",
      "In foo, gebe t zurück\n"
     ]
    },
    {
     "data": {
      "text/plain": [
       "['Hallo', 'W', 'e', 'l', 't']"
      ]
     },
     "execution_count": 54,
     "metadata": {},
     "output_type": "execute_result"
    }
   ],
   "source": [
    "list(foo())"
   ]
  },
  {
   "cell_type": "code",
   "execution_count": 55,
   "metadata": {
    "collapsed": false
   },
   "outputs": [
    {
     "name": "stdout",
     "output_type": "stream",
     "text": [
      "In foo, gebe Hallo zurück\n",
      "In foo, gebe W zurück\n",
      "In foo, gebe e zurück\n",
      "In foo, gebe l zurück\n",
      "In foo, gebe t zurück\n"
     ]
    },
    {
     "data": {
      "text/plain": [
       "'Hallo😁W😁e😁l😁t'"
      ]
     },
     "execution_count": 55,
     "metadata": {},
     "output_type": "execute_result"
    }
   ],
   "source": [
    "'😁'.join(foo())"
   ]
  },
  {
   "cell_type": "markdown",
   "metadata": {
    "slideshow": {
     "slide_type": "slide"
    }
   },
   "source": [
    "### Generatoren werden überall benutzt\n",
    "\n",
    "```python\n",
    "with open(\"/etc/passwd\", \"r\") as f:\n",
    "    for line in f:  #iter(f) gibt einen generator zurück\n",
    "        print(line)\n",
    "```\n",
    "\n",
    "```python\n",
    "for lineno, line in enumerate(lines):\n",
    "    print(\"{:%04d} {}\".format(lineno, line))\n",
    "```\n",
    "\n",
    "* `zip`, `map`, `filter`, `range`, etc. sind (in Python 3) Generatoren\n"
   ]
  },
  {
   "cell_type": "markdown",
   "metadata": {
    "collapsed": true,
    "slideshow": {
     "slide_type": "slide"
    }
   },
   "source": [
    "*“By considering the terms in the Fibonacci sequence whose values do\n",
    " not exceed four million, find the sum of the even-valued terms.”*"
   ]
  },
  {
   "cell_type": "markdown",
   "metadata": {
    "slideshow": {
     "slide_type": "fragment"
    }
   },
   "source": [
    "#### Scala\n",
    "\n",
    "```scala\n",
    "val fib: Stream[BigInt] = {\n",
    "  def fibs(a:BigInt, b:BigInt):Stream[BigInt] = a #:: fibs(b, a+b)\n",
    "\tfibs(0, 1)\n",
    "  }\n",
    "\n",
    "  (fib takeWhile(_ <= 4000000)).withFilter(_%2 == 0).map(identity).sum\n",
    "}\n",
    "```"
   ]
  },
  {
   "cell_type": "markdown",
   "metadata": {
    "slideshow": {
     "slide_type": "fragment"
    }
   },
   "source": [
    "#### \"Python\""
   ]
  },
  {
   "cell_type": "code",
   "execution_count": 1,
   "metadata": {
    "collapsed": false
   },
   "outputs": [
    {
     "data": {
      "text/plain": [
       "4613732"
      ]
     },
     "execution_count": 1,
     "metadata": {},
     "output_type": "execute_result"
    }
   ],
   "source": [
    "from itertools import takewhile\n",
    "\n",
    "def fib():\n",
    "    a, b = 0, 1\n",
    "    while True:\n",
    "        yield a\n",
    "        a, b = b, a+b\n",
    "\n",
    "sum(n for n in takewhile(lambda x: x <= 4000000, fib()) if n%2 == 0)"
   ]
  },
  {
   "cell_type": "markdown",
   "metadata": {
    "slideshow": {
     "slide_type": "subslide"
    }
   },
   "source": [
    "#### Python"
   ]
  },
  {
   "cell_type": "code",
   "execution_count": 5,
   "metadata": {
    "collapsed": false
   },
   "outputs": [
    {
     "data": {
      "text/plain": [
       "4613732"
      ]
     },
     "execution_count": 5,
     "metadata": {},
     "output_type": "execute_result"
    }
   ],
   "source": [
    "def fib(max):\n",
    "    a, b = 0, 1\n",
    "    while a <= max:\n",
    "        yield a\n",
    "        a, b = b, a+b\n",
    "        \n",
    "sum(n for n in fib(4000000) if n%2 == 0)"
   ]
  },
  {
   "cell_type": "markdown",
   "metadata": {
    "slideshow": {
     "slide_type": "fragment"
    }
   },
   "source": [
    "#### “Scala”\n",
    "\n",
    "```scala\n",
    "def fib(max:BigInt): Stream[BigInt] = {\n",
    "  def fibs(a:BigInt, b:BigInt):Stream[BigInt] = a #:: fibs(b, a+b)\n",
    "  fibs(0, 1).takeWhile(_<=max)\n",
    "}\n",
    "\n",
    "(for (x <- fib(4000000) if x%2 == 0) yield x).sum\n",
    "```"
   ]
  },
  {
   "cell_type": "markdown",
   "metadata": {
    "collapsed": true,
    "slideshow": {
     "slide_type": "slide"
    }
   },
   "source": [
    "# But wait, there's more..."
   ]
  },
  {
   "cell_type": "markdown",
   "metadata": {
    "slideshow": {
     "slide_type": "slide"
    }
   },
   "source": [
    "## Coroutinen\n",
    "\n",
    "### Generatoren können Werte vom Aufrufer erhalten\n"
   ]
  },
  {
   "cell_type": "code",
   "execution_count": 7,
   "metadata": {
    "collapsed": true
   },
   "outputs": [],
   "source": [
    "def foo():\n",
    "    ans = yield 42\n",
    "    while ans:\n",
    "        print(\"Habe\", ans, \"erhalten\")\n",
    "        ans = yield ans**2\n",
    "\n",
    "f = foo()"
   ]
  },
  {
   "cell_type": "code",
   "execution_count": 8,
   "metadata": {
    "collapsed": false
   },
   "outputs": [
    {
     "data": {
      "text/plain": [
       "42"
      ]
     },
     "execution_count": 8,
     "metadata": {},
     "output_type": "execute_result"
    }
   ],
   "source": [
    "next(f)"
   ]
  },
  {
   "cell_type": "code",
   "execution_count": 9,
   "metadata": {
    "collapsed": false
   },
   "outputs": [
    {
     "name": "stdout",
     "output_type": "stream",
     "text": [
      "Habe 100 erhalten\n"
     ]
    },
    {
     "data": {
      "text/plain": [
       "10000"
      ]
     },
     "execution_count": 9,
     "metadata": {},
     "output_type": "execute_result"
    }
   ],
   "source": [
    "f.send(100)"
   ]
  },
  {
   "cell_type": "code",
   "execution_count": 10,
   "metadata": {
    "collapsed": false
   },
   "outputs": [
    {
     "name": "stdout",
     "output_type": "stream",
     "text": [
      "Habe 3 erhalten\n"
     ]
    },
    {
     "data": {
      "text/plain": [
       "9"
      ]
     },
     "execution_count": 10,
     "metadata": {},
     "output_type": "execute_result"
    }
   ],
   "source": [
    "f.send(3)"
   ]
  },
  {
   "cell_type": "code",
   "execution_count": 11,
   "metadata": {
    "collapsed": false,
    "slideshow": {
     "slide_type": "subslide"
    }
   },
   "outputs": [
    {
     "ename": "StopIteration",
     "evalue": "",
     "output_type": "error",
     "traceback": [
      "\u001b[1;31m---------------------------------------------------------------------------\u001b[0m",
      "\u001b[1;31mStopIteration\u001b[0m                             Traceback (most recent call last)",
      "\u001b[1;32m<ipython-input-11-c225355ef4b6>\u001b[0m in \u001b[0;36m<module>\u001b[1;34m()\u001b[0m\n\u001b[1;32m----> 1\u001b[1;33m \u001b[0mf\u001b[0m\u001b[1;33m.\u001b[0m\u001b[0msend\u001b[0m\u001b[1;33m(\u001b[0m\u001b[1;36m0\u001b[0m\u001b[1;33m)\u001b[0m\u001b[1;33m\u001b[0m\u001b[0m\n\u001b[0m",
      "\u001b[1;31mStopIteration\u001b[0m: "
     ]
    }
   ],
   "source": [
    "f.send(0)"
   ]
  },
  {
   "cell_type": "code",
   "execution_count": null,
   "metadata": {
    "collapsed": true,
    "slideshow": {
     "slide_type": "slide"
    }
   },
   "outputs": [],
   "source": []
  },
  {
   "cell_type": "markdown",
   "metadata": {
    "slideshow": {
     "slide_type": "slide"
    }
   },
   "source": [
    "\n",
    "### Asynchronous programming is fun again"
   ]
  },
  {
   "cell_type": "code",
   "execution_count": 2,
   "metadata": {
    "collapsed": true,
    "slideshow": {
     "slide_type": "-"
    }
   },
   "outputs": [],
   "source": [
    "from tornado.httpclient import HTTPClient\n",
    "\n",
    "def synchronous_fetch(url):\n",
    "    http_client = HTTPClient()\n",
    "    response = http_client.fetch(url)\n",
    "    return response.body\n"
   ]
  },
  {
   "cell_type": "code",
   "execution_count": 3,
   "metadata": {
    "collapsed": true
   },
   "outputs": [],
   "source": [
    "from tornado.httpclient import AsyncHTTPClient\n",
    "from tornado import gen\n",
    "\n",
    "@gen.coroutine\n",
    "def asynchronous_fetch(url):\n",
    "    http_client = AsyncHTTPClient()\n",
    "    response = yield http_client.fetch(url)\n",
    "    return response.body\n"
   ]
  },
  {
   "cell_type": "markdown",
   "metadata": {
    "slideshow": {
     "slide_type": "slide"
    }
   },
   "source": [
    "## Asyncio\n",
    "\n",
    "Python 3.4 hat ein entsprechendes Coroutine-basiertes Framework"
   ]
  },
  {
   "cell_type": "code",
   "execution_count": 7,
   "metadata": {
    "collapsed": false
   },
   "outputs": [],
   "source": [
    "import asyncio\n",
    "import urllib.parse\n",
    "import sys\n",
    "\n",
    "@asyncio.coroutine\n",
    "def print_http_headers(url):\n",
    "    url = urllib.parse.urlsplit(url)\n",
    "    reader, writer = yield from asyncio.open_connection(url.hostname, 80)\n",
    "    query = ('HEAD {url.path} HTTP/1.0\\r\\n'\n",
    "             'Host: {url.hostname}\\r\\n'\n",
    "             '\\r\\n').format(url=url)\n",
    "    writer.write(query.encode('latin-1'))\n",
    "    while True:\n",
    "        line = yield from reader.readline()\n",
    "        if not line:\n",
    "            break\n",
    "        line = line.decode('latin1').rstrip()\n",
    "        if line:\n",
    "            print('HTTP header> %s' % line)"
   ]
  },
  {
   "cell_type": "code",
   "execution_count": 8,
   "metadata": {
    "collapsed": false,
    "slideshow": {
     "slide_type": "subslide"
    }
   },
   "outputs": [
    {
     "name": "stdout",
     "output_type": "stream",
     "text": [
      "HTTP header> HTTP/1.1 302 Moved Temporarily\n",
      "HTTP header> Server: nginx/1.6.2\n",
      "HTTP header> Date: Fri, 06 Nov 2015 11:28:47 GMT\n",
      "HTTP header> Content-Type: text/html\n",
      "HTTP header> Content-Length: 160\n",
      "HTTP header> Connection: close\n",
      "HTTP header> Location: https://inoio.de/\n",
      "HTTP header> Strict-Transport-Security: max-age=15724800\n"
     ]
    }
   ],
   "source": [
    "url = \"http://www.inoio.de/\"\n",
    "loop = asyncio.get_event_loop()\n",
    "task = asyncio.async(print_http_headers(url))\n",
    "loop.run_until_complete(task)\n",
    "loop.close()\n"
   ]
  },
  {
   "cell_type": "markdown",
   "metadata": {
    "collapsed": false,
    "slideshow": {
     "slide_type": "slide"
    }
   },
   "source": [
    "## `async`/`await`\n",
    "\n",
    "Die Erfahrung hat gezeigt, dass manche Entwickler mit `yield from` basierten Coroutinen Probleme hatten. Daher gibt es seit 3.5 `async` und `await`\n",
    "\n",
    "* `await foo()` ist dasselbe wie `yield from foo()`, hat nur ein paar Sicherheitschecks (`foo` muss z. B. `async def foo` sein)\n",
    "* `async for`, `async with` vereinfachen das Arbeiten\n",
    "* Anders als `yield from` sind `async` und `await` direkt für das Arbeiten mit Event-Loops konzipiert (laufen auch nicht ohne)\n",
    "* Im Prinzip nichts neues, ging alles schon in 3.4, nur schönere Syntax"
   ]
  },
  {
   "cell_type": "code",
   "execution_count": 1,
   "metadata": {
    "collapsed": false,
    "scrolled": true,
    "slideshow": {
     "slide_type": "slide"
    }
   },
   "outputs": [
    {
     "name": "stdout",
     "output_type": "stream",
     "text": [
      ">>> b'HTTP/1.1 302 Moved Temporarily\\r\\n'\n",
      ">>> b'Server: nginx/1.6.2\\r\\n'\n",
      ">>> b'Date: Fri, 06 Nov 2015 11:31:24 GMT\\r\\n'\n",
      ">>> b'Content-Type: text/html\\r\\n'\n",
      ">>> b'Content-Length: 160\\r\\n'\n",
      ">>> b'Connection: close\\r\\n'\n",
      ">>> b'Location: https://inoio.de/\\r\\n'\n",
      ">>> b'Strict-Transport-Security: max-age=15724800\\r\\n'\n",
      ">>> b'\\r\\n'\n",
      ">>> b'<html>\\r\\n'\n",
      ">>> b'<head><title>302 Found</title></head>\\r\\n'\n",
      ">>> b'<body bgcolor=\"white\">\\r\\n'\n",
      ">>> b'<center><h1>302 Found</h1></center>\\r\\n'\n",
      ">>> b'<hr><center>nginx/1.6.2</center>\\r\\n'\n",
      ">>> b'</body>\\r\\n'\n",
      ">>> b'</html>\\r\\n'\n"
     ]
    }
   ],
   "source": [
    "import asyncio\n",
    "\n",
    "async def http_get(domain):\n",
    "    reader, writer = await asyncio.open_connection(domain, 80)\n",
    "\n",
    "    writer.write(b'\\r\\n'.join([\n",
    "        b'GET / HTTP/1.1',\n",
    "        b'Host: %b' % domain.encode('latin-1'),\n",
    "        b'Connection: close',\n",
    "        b'', b''\n",
    "    ]))\n",
    "\n",
    "    async for line in reader:\n",
    "        print('>>>', line)\n",
    "\n",
    "    writer.close()\n",
    "\n",
    "loop = asyncio.get_event_loop()\n",
    "try:\n",
    "    loop.run_until_complete(http_get('inoio.de'))\n",
    "finally:\n",
    "    loop.close()"
   ]
  },
  {
   "cell_type": "code",
   "execution_count": null,
   "metadata": {
    "collapsed": true,
    "slideshow": {
     "slide_type": "slide"
    }
   },
   "outputs": [],
   "source": []
  },
  {
   "cell_type": "code",
   "execution_count": null,
   "metadata": {
    "collapsed": true
   },
   "outputs": [],
   "source": []
  },
  {
   "cell_type": "code",
   "execution_count": null,
   "metadata": {
    "collapsed": true
   },
   "outputs": [],
   "source": []
  },
  {
   "cell_type": "code",
   "execution_count": null,
   "metadata": {
    "collapsed": true
   },
   "outputs": [],
   "source": []
  },
  {
   "cell_type": "code",
   "execution_count": null,
   "metadata": {
    "collapsed": true
   },
   "outputs": [],
   "source": []
  },
  {
   "cell_type": "markdown",
   "metadata": {
    "collapsed": true
   },
   "source": [
    "# TODO\n",
    "\n",
    "* odoo _inherit Example\n",
    "* ggf. noch kurzes Beispiel von mypy, evtl. noch Jedi\n",
    "* sphinx\n",
    "* doctest\n",
    "* mocks\n",
    "* py.test\n",
    "* hypothesis\n",
    "* pyramid example (sqlachemy, ggf. noch wtforms)\n",
    "* flask example\n",
    "* celery\n",
    "* pandas/ipython\n",
    "* sklearn-notebook vom workshop\n",
    "* refactoring mit vim+rope, pycharm\n",
    "* Kurzes Performancebeispiel pyramid, ggf. tornado\n",
    "* PyPy erwähnen, ggf. kurzes Beispiel\n",
    "* multiprocessing.map"
   ]
  },
  {
   "cell_type": "markdown",
   "metadata": {
    "collapsed": true,
    "slideshow": {
     "slide_type": "slide"
    }
   },
   "source": [
    " ## Ungewöhnliches\n",
    " \n",
    " a < b < c < d\n",
    " \n",
    " \n",
    " Trailing comma\n",
    " [1, 2, 3, ]"
   ]
  },
  {
   "cell_type": "code",
   "execution_count": null,
   "metadata": {
    "collapsed": true
   },
   "outputs": [],
   "source": []
  }
 ],
 "metadata": {
  "celltoolbar": "Slideshow",
  "kernelspec": {
   "display_name": "Python 3",
   "language": "python",
   "name": "python3"
  },
  "language_info": {
   "codemirror_mode": {
    "name": "ipython",
    "version": 3
   },
   "file_extension": ".py",
   "mimetype": "text/x-python",
   "name": "python",
   "nbconvert_exporter": "python",
   "pygments_lexer": "ipython3",
   "version": "3.5.0+"
  }
 },
 "nbformat": 4,
 "nbformat_minor": 0
}

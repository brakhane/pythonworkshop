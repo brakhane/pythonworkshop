{
 "cells": [
  {
   "cell_type": "markdown",
   "metadata": {},
   "source": [
    "<img src=\"https://www.python.org/static/community_logos/python-logo-master-v3-TM-flattened.png\"/>"
   ]
  },
  {
   "cell_type": "markdown",
   "metadata": {},
   "source": [
    "# Nützliche Ressourcen\n",
    "\n",
    "* Die [Python Dokumentation](https://docs.python.org/3/) ist sehr gut; Dokumentation wird in der Community als sehr wichtig angesehen, Sphinx wurde ursprünglich entwickelt, um die Python Doku besser schreiben zu können. Für den Workshop besonders interessant sind:\n",
    "\n",
    "  * Die [Language Reference](https://docs.python.org/3/reference/index.html) (Syntax, Datenmodell)\n",
    "  * Die [Library Reference](https://docs.python.org/3/library/index.html) (\"Python comes with batteries included\". Viele Grundlegende Sachen sind abgedeckt\n",
    "  \n",
    "  \n"
   ]
  },
  {
   "cell_type": "markdown",
   "metadata": {},
   "source": [
    "# Ablauf\n",
    "\n",
    "Die ersten Übungen könnt und sollt ihr direkt in diesem Notebook machen; später werden wir noch eine \"richtige\" Anwendung anpassen, hierzu wird dann zu einer IDE oder Editoren gegriffen\n",
    "\n"
   ]
  },
  {
   "cell_type": "markdown",
   "metadata": {},
   "source": [
    "# Hinweise\n",
    "\n",
    "* IPython/Jupyter Notebooks speichern zwar das Ergebnis eines Befehls ab, aber nicht den Zustand des Systems. Führt daher jede Zelle aus, indem ihr sie anwählt und Strg+Enter drückt. Ansonsten kann es zu fehlern kommen. Wenn ihr z. B. eine Zelle nicht ausgeführt habt, in denen eine Klasse definiert wird, werden darauffolgende Zellen nicht funktionieren, da ja die Klasse fehlt. In dem Fall einfach die Zelle mit der Klassendefinition ausführen und es sollte gehen.\n",
    "\n",
    "* IPython bietet Typeexpansion (mit Tab) an. Außerdem könnt ihr Shift+Tab drücken, um eine Hilfe zur Funktion angezeigt zu bekommen (sofern IPython weiss, welche Funktion es ist). Zweimal Shift+Tab gibt mehr Hilfe, Dreimal Shift-Tab öffnet einen Frame mit der Doku. ALternativ könnt ihr auch ein oder zwei Fragezeichen hinter den Funktionsnamen schreiben und die Zelle ausführen\n",
    "\n",
    "* Mit \"%psource object\" bekommt ihr den Quellcode angezeigt."
   ]
  },
  {
   "cell_type": "markdown",
   "metadata": {},
   "source": [
    "## Beispiel"
   ]
  },
  {
   "cell_type": "code",
   "execution_count": 1,
   "metadata": {
    "collapsed": true
   },
   "outputs": [],
   "source": [
    "import requests"
   ]
  },
  {
   "cell_type": "code",
   "execution_count": 2,
   "metadata": {
    "collapsed": false
   },
   "outputs": [],
   "source": [
    "response = requests.get(\"https://inoio.de\")"
   ]
  },
  {
   "cell_type": "code",
   "execution_count": 3,
   "metadata": {
    "collapsed": true
   },
   "outputs": [],
   "source": [
    "%psource response"
   ]
  },
  {
   "cell_type": "markdown",
   "metadata": {
    "collapsed": true
   },
   "source": [
    "Falls ihr Inline in Ipython debuggen wollt, macht folgendes:"
   ]
  },
  {
   "cell_type": "code",
   "execution_count": 1,
   "metadata": {
    "collapsed": true
   },
   "outputs": [],
   "source": [
    "from IPython.core.debugger import Tracer; debug = Tracer() "
   ]
  },
  {
   "cell_type": "markdown",
   "metadata": {
    "collapsed": true
   },
   "source": [
    "jetzt könnt ihr debug() irgendwo reinschreiben (Klammern nicht vergessen) um den DEbugger zu starten.\n",
    "\n",
    "Im Debugger könnt ihr normale Pythonexpressions eingeben, und sie weden ausgeführt. mit \"cont\" gehts dann weiter:"
   ]
  },
  {
   "cell_type": "code",
   "execution_count": 8,
   "metadata": {
    "collapsed": true
   },
   "outputs": [],
   "source": [
    "def foo():\n",
    "    a = 2\n",
    "    debug()\n",
    "    return a"
   ]
  },
  {
   "cell_type": "code",
   "execution_count": 9,
   "metadata": {
    "collapsed": false
   },
   "outputs": [
    {
     "name": "stdout",
     "output_type": "stream",
     "text": [
      "> \u001b[1;32m<ipython-input-8-0ba236d43d68>\u001b[0m(4)\u001b[0;36mfoo\u001b[1;34m()\u001b[0m\n",
      "\u001b[1;32m      2 \u001b[1;33m    \u001b[0ma\u001b[0m \u001b[1;33m=\u001b[0m \u001b[1;36m2\u001b[0m\u001b[1;33m\u001b[0m\u001b[0m\n",
      "\u001b[0m\u001b[1;32m      3 \u001b[1;33m    \u001b[0mdebug\u001b[0m\u001b[1;33m(\u001b[0m\u001b[1;33m)\u001b[0m\u001b[1;33m\u001b[0m\u001b[0m\n",
      "\u001b[0m\u001b[1;32m----> 4 \u001b[1;33m    \u001b[1;32mreturn\u001b[0m \u001b[0ma\u001b[0m\u001b[1;33m\u001b[0m\u001b[0m\n",
      "\u001b[0m\n",
      "ipdb> print(a)\n",
      "2\n",
      "ipdb> a\n",
      "ipdb> cont\n"
     ]
    },
    {
     "data": {
      "text/plain": [
       "2"
      ]
     },
     "execution_count": 9,
     "metadata": {},
     "output_type": "execute_result"
    }
   ],
   "source": [
    "foo()"
   ]
  },
  {
   "cell_type": "markdown",
   "metadata": {},
   "source": [
    "Oder allgemein, wenn eine Exception passiert ist, post-mortem mit `%debug`"
   ]
  },
  {
   "cell_type": "code",
   "execution_count": 4,
   "metadata": {
    "collapsed": true
   },
   "outputs": [],
   "source": [
    "def buggy(a):\n",
    "    inv = 1 / a\n",
    "    return inv"
   ]
  },
  {
   "cell_type": "code",
   "execution_count": 10,
   "metadata": {
    "collapsed": false
   },
   "outputs": [
    {
     "ename": "ZeroDivisionError",
     "evalue": "division by zero",
     "output_type": "error",
     "traceback": [
      "\u001b[1;31m---------------------------------------------------------------------------\u001b[0m",
      "\u001b[1;31mZeroDivisionError\u001b[0m                         Traceback (most recent call last)",
      "\u001b[1;32m<ipython-input-10-d01c250b0761>\u001b[0m in \u001b[0;36m<module>\u001b[1;34m()\u001b[0m\n\u001b[1;32m----> 1\u001b[1;33m \u001b[0mbuggy\u001b[0m\u001b[1;33m(\u001b[0m\u001b[1;36m0\u001b[0m\u001b[1;33m)\u001b[0m\u001b[1;33m\u001b[0m\u001b[0m\n\u001b[0m",
      "\u001b[1;32m<ipython-input-4-e9f31ba2c116>\u001b[0m in \u001b[0;36mbuggy\u001b[1;34m(a)\u001b[0m\n\u001b[0;32m      1\u001b[0m \u001b[1;32mdef\u001b[0m \u001b[0mbuggy\u001b[0m\u001b[1;33m(\u001b[0m\u001b[0ma\u001b[0m\u001b[1;33m)\u001b[0m\u001b[1;33m:\u001b[0m\u001b[1;33m\u001b[0m\u001b[0m\n\u001b[1;32m----> 2\u001b[1;33m     \u001b[0minv\u001b[0m \u001b[1;33m=\u001b[0m \u001b[1;36m1\u001b[0m \u001b[1;33m/\u001b[0m \u001b[0ma\u001b[0m\u001b[1;33m\u001b[0m\u001b[0m\n\u001b[0m\u001b[0;32m      3\u001b[0m     \u001b[1;32mreturn\u001b[0m \u001b[0minv\u001b[0m\u001b[1;33m\u001b[0m\u001b[0m\n",
      "\u001b[1;31mZeroDivisionError\u001b[0m: division by zero"
     ]
    }
   ],
   "source": [
    "buggy(0)"
   ]
  },
  {
   "cell_type": "code",
   "execution_count": 11,
   "metadata": {
    "collapsed": false
   },
   "outputs": [
    {
     "name": "stdout",
     "output_type": "stream",
     "text": [
      "> \u001b[1;32m<ipython-input-4-e9f31ba2c116>\u001b[0m(2)\u001b[0;36mbuggy\u001b[1;34m()\u001b[0m\n",
      "\u001b[1;32m      1 \u001b[1;33m\u001b[1;32mdef\u001b[0m \u001b[0mbuggy\u001b[0m\u001b[1;33m(\u001b[0m\u001b[0ma\u001b[0m\u001b[1;33m)\u001b[0m\u001b[1;33m:\u001b[0m\u001b[1;33m\u001b[0m\u001b[0m\n",
      "\u001b[0m\u001b[1;32m----> 2 \u001b[1;33m    \u001b[0minv\u001b[0m \u001b[1;33m=\u001b[0m \u001b[1;36m1\u001b[0m \u001b[1;33m/\u001b[0m \u001b[0ma\u001b[0m\u001b[1;33m\u001b[0m\u001b[0m\n",
      "\u001b[0m\u001b[1;32m      3 \u001b[1;33m    \u001b[1;32mreturn\u001b[0m \u001b[0minv\u001b[0m\u001b[1;33m\u001b[0m\u001b[0m\n",
      "\u001b[0m\n",
      "ipdb> inv\n",
      "*** NameError: name 'inv' is not defined\n",
      "ipdb> cont\n"
     ]
    }
   ],
   "source": [
    "%debug"
   ]
  },
  {
   "cell_type": "code",
   "execution_count": null,
   "metadata": {
    "collapsed": true
   },
   "outputs": [],
   "source": []
  },
  {
   "cell_type": "markdown",
   "metadata": {},
   "source": [
    "# Funktionen\n",
    "\n",
    "## Funktionsdefinitionen sind Variablenzuweisungen\n",
    "\n",
    "Funktionsdefinitionen in Python sind Statements mit Seiteneffekten: sie erzeugen eine neue Funktion und weisen einer Variablen diesen Wert zu. Die folgenden Statements sind mehr oder weniger äquivalent:\n"
   ]
  },
  {
   "cell_type": "code",
   "execution_count": 68,
   "metadata": {
    "collapsed": false
   },
   "outputs": [],
   "source": [
    "def add(x, y):\n",
    "    return x + y\n",
    "\n",
    "add_lambda = lambda x, y: x + y"
   ]
  },
  {
   "cell_type": "code",
   "execution_count": 69,
   "metadata": {
    "collapsed": false
   },
   "outputs": [
    {
     "data": {
      "text/plain": [
       "3"
      ]
     },
     "execution_count": 69,
     "metadata": {},
     "output_type": "execute_result"
    }
   ],
   "source": [
    "add(1, 2)"
   ]
  },
  {
   "cell_type": "code",
   "execution_count": 70,
   "metadata": {
    "collapsed": false
   },
   "outputs": [
    {
     "data": {
      "text/plain": [
       "3"
      ]
     },
     "execution_count": 70,
     "metadata": {},
     "output_type": "execute_result"
    }
   ],
   "source": [
    "add_lambda(1, 2)"
   ]
  },
  {
   "cell_type": "markdown",
   "metadata": {},
   "source": [
    "Python ist dynamisch, daher können wir uns einfach mal den Code anschauen, und schauen, ob es unterschiede gibt."
   ]
  },
  {
   "cell_type": "code",
   "execution_count": 91,
   "metadata": {
    "collapsed": false
   },
   "outputs": [
    {
     "name": "stdout",
     "output_type": "stream",
     "text": [
      "  2           0 LOAD_FAST                0 (x)\n",
      "              3 LOAD_FAST                1 (y)\n",
      "              6 BINARY_ADD\n",
      "              7 RETURN_VALUE\n"
     ]
    }
   ],
   "source": [
    "import dis\n",
    "dis.dis(add)"
   ]
  },
  {
   "cell_type": "code",
   "execution_count": 92,
   "metadata": {
    "collapsed": false
   },
   "outputs": [
    {
     "name": "stdout",
     "output_type": "stream",
     "text": [
      "  4           0 LOAD_FAST                0 (x)\n",
      "              3 LOAD_FAST                1 (y)\n",
      "              6 BINARY_ADD\n",
      "              7 RETURN_VALUE\n"
     ]
    }
   ],
   "source": [
    "dis.dis(add_lambda)"
   ]
  },
  {
   "cell_type": "code",
   "execution_count": null,
   "metadata": {
    "collapsed": true
   },
   "outputs": [],
   "source": []
  },
  {
   "cell_type": "code",
   "execution_count": null,
   "metadata": {
    "collapsed": true
   },
   "outputs": [],
   "source": []
  },
  {
   "cell_type": "markdown",
   "metadata": {},
   "source": [
    "In statischen Sprachen bedeutet `add(1, 2)`: \"rufe die Funktion `add` mit den Parametern 1 und 2 auf. In Python heißt es: \"Hole das Objekt, auf das das Attribute/die Variable `add` zeigt, und rufe dieses mit den Parametern 1 und 2 auf. Wir könnten also auch schreiben:"
   ]
  },
  {
   "cell_type": "code",
   "execution_count": 71,
   "metadata": {
    "collapsed": false
   },
   "outputs": [
    {
     "data": {
      "text/plain": [
       "3"
      ]
     },
     "execution_count": 71,
     "metadata": {},
     "output_type": "execute_result"
    }
   ],
   "source": [
    "x = add\n",
    "x(1, 2)"
   ]
  },
  {
   "cell_type": "markdown",
   "metadata": {},
   "source": [
    "## Übung\n",
    "\n",
    "Überlege: Was wird passieren, wenn die folgende Zelle ausgeführt wird? Dann führe die Zelle aus. Was ist passiert? War deine Vermutung korrekt? "
   ]
  },
  {
   "cell_type": "code",
   "execution_count": null,
   "metadata": {
    "collapsed": false
   },
   "outputs": [],
   "source": [
    "def workshop1(something):\n",
    "    return \"Something was {}\".format(something)\n",
    "\n",
    "# same name as above!\n",
    "def workshop1(something, something_else):\n",
    "    return \"Something was {} and something else was {}\".format(something, something_else)\n",
    "\n",
    "workshop1(\"One parameter\")"
   ]
  },
  {
   "cell_type": "code",
   "execution_count": null,
   "metadata": {
    "collapsed": true
   },
   "outputs": [],
   "source": []
  },
  {
   "cell_type": "code",
   "execution_count": null,
   "metadata": {
    "collapsed": true
   },
   "outputs": [],
   "source": []
  },
  {
   "cell_type": "code",
   "execution_count": null,
   "metadata": {
    "collapsed": true
   },
   "outputs": [],
   "source": []
  },
  {
   "cell_type": "markdown",
   "metadata": {},
   "source": [
    "## Keyword arguments, Default Parameter\n",
    "\n",
    "Wie in Scala auch kann man in Python bei einem Funktionsaufruf explizit den Namen der Parameter mit angeben, das wird bei Funktionen mit vielen Parametern auch empfohlen, da es Dokumentationscharakter hat:"
   ]
  },
  {
   "cell_type": "code",
   "execution_count": 103,
   "metadata": {
    "collapsed": false
   },
   "outputs": [
    {
     "name": "stdout",
     "output_type": "stream",
     "text": [
      "{\"bar\": \"foo\", \"foo\": \"bar\"}\n"
     ]
    }
   ],
   "source": [
    "import json\n",
    "print(json.dumps({\"foo\": \"bar\", \"bar\": \"foo\"}, sort_keys=True))"
   ]
  },
  {
   "cell_type": "markdown",
   "metadata": {},
   "source": [
    "kann man auch verstehen ohne die Doku zu lesen; im Gegensatz zu:"
   ]
  },
  {
   "cell_type": "code",
   "execution_count": 104,
   "metadata": {
    "collapsed": false
   },
   "outputs": [
    {
     "name": "stdout",
     "output_type": "stream",
     "text": [
      "{\"bar\": \"foo\", \"foo\": \"bar\"}\n"
     ]
    }
   ],
   "source": [
    "print(json.dumps({\"foo\": \"bar\", \"bar\": \"foo\"}, False, False, True, True, None, None, None, None, True))"
   ]
  },
  {
   "cell_type": "markdown",
   "metadata": {},
   "source": [
    "Varargs gehen auch, Scalas\n",
    "```scala\n",
    "def func(data: Any*) = data\n",
    "```\n",
    "sieht in Python so aus:"
   ]
  },
  {
   "cell_type": "code",
   "execution_count": 62,
   "metadata": {
    "collapsed": true
   },
   "outputs": [],
   "source": [
    "def func(*data):\n",
    "    return data"
   ]
  },
  {
   "cell_type": "markdown",
   "metadata": {},
   "source": [
    "Python kennt wie Scala auch (genauer gesagt ist es anderesrum ;)) defaultparameter."
   ]
  },
  {
   "cell_type": "code",
   "execution_count": 74,
   "metadata": {
    "collapsed": false
   },
   "outputs": [
    {
     "name": "stdout",
     "output_type": "stream",
     "text": [
      "param is wert\n"
     ]
    }
   ],
   "source": [
    "def func_with_default(param = \"wert\"):\n",
    "    print(\"param is\", param)\n",
    "    \n",
    "func_with_default()"
   ]
  },
  {
   "cell_type": "markdown",
   "metadata": {},
   "source": [
    "### Vorsicht\n",
    "\n",
    "Python nutzt Early Binding in Defaultparametern, daher keine mutable Werte als Default nehmen, wenn die Parameter verändert werden:"
   ]
  },
  {
   "cell_type": "code",
   "execution_count": 75,
   "metadata": {
    "collapsed": true
   },
   "outputs": [],
   "source": [
    "def falsch(lst=[]):\n",
    "    lst.append(42)\n",
    "    return lst"
   ]
  },
  {
   "cell_type": "code",
   "execution_count": 76,
   "metadata": {
    "collapsed": false
   },
   "outputs": [
    {
     "data": {
      "text/plain": [
       "[42]"
      ]
     },
     "execution_count": 76,
     "metadata": {},
     "output_type": "execute_result"
    }
   ],
   "source": [
    "falsch()"
   ]
  },
  {
   "cell_type": "code",
   "execution_count": 77,
   "metadata": {
    "collapsed": false
   },
   "outputs": [
    {
     "data": {
      "text/plain": [
       "[42, 42]"
      ]
     },
     "execution_count": 77,
     "metadata": {},
     "output_type": "execute_result"
    }
   ],
   "source": [
    "falsch()"
   ]
  },
  {
   "cell_type": "markdown",
   "metadata": {},
   "source": [
    "### variable Keyword arguments\n",
    "\n",
    "Anders als in Scala kann in Python eine Funktion aber auch eine beliebe Anzahl von Keyword parametern benutzen, die dann als Map zur Verfügung stehen:"
   ]
  },
  {
   "cell_type": "code",
   "execution_count": 63,
   "metadata": {
    "collapsed": true
   },
   "outputs": [],
   "source": [
    "def func(**kwargs):\n",
    "    return kwargs"
   ]
  },
  {
   "cell_type": "code",
   "execution_count": 64,
   "metadata": {
    "collapsed": false
   },
   "outputs": [
    {
     "data": {
      "text/plain": [
       "{'bar': 'rapunzel', 'foo': 42}"
      ]
     },
     "execution_count": 64,
     "metadata": {},
     "output_type": "execute_result"
    }
   ],
   "source": [
    "func(foo=42, bar=\"rapunzel\")"
   ]
  },
  {
   "cell_type": "markdown",
   "metadata": {},
   "source": [
    "Die können natürlich kombiniert werden:"
   ]
  },
  {
   "cell_type": "code",
   "execution_count": 67,
   "metadata": {
    "collapsed": false
   },
   "outputs": [
    {
     "name": "stdout",
     "output_type": "stream",
     "text": [
      "a is 1\n",
      "b is 2\n",
      "args is (3, 4)\n",
      "kwargs is {'foo': 5}\n"
     ]
    }
   ],
   "source": [
    "def print_params(a, b, *args, **kwargs):\n",
    "    print(\"a is\", a)\n",
    "    print(\"b is\", b)\n",
    "    print(\"args is\", args)\n",
    "    print(\"kwargs is\", kwargs)\n",
    "    \n",
    "print_params(1, 2, 3, 4, foo=5)"
   ]
  },
  {
   "cell_type": "markdown",
   "metadata": {},
   "source": [
    "### apply\n",
    "\n",
    "Manchmal ist es nützlich, die Funktion, die aufgerufen werden soll, und die Paramter dafür getrennt einer anderen Funktion zu übergeben (z. B. Callbacks), um diese Funktion aufzurufen, gibt es dann speziellen Syntax:"
   ]
  },
  {
   "cell_type": "code",
   "execution_count": 72,
   "metadata": {
    "collapsed": false
   },
   "outputs": [
    {
     "data": {
      "text/plain": [
       "3"
      ]
     },
     "execution_count": 72,
     "metadata": {},
     "output_type": "execute_result"
    }
   ],
   "source": [
    "args = (1, 2)\n",
    "add(*args)"
   ]
  },
  {
   "cell_type": "code",
   "execution_count": 73,
   "metadata": {
    "collapsed": false
   },
   "outputs": [
    {
     "name": "stdout",
     "output_type": "stream",
     "text": [
      "a is 3\n",
      "b is 42\n",
      "args is ()\n",
      "kwargs is {'foo': 99}\n"
     ]
    }
   ],
   "source": [
    "params = {\"b\": 42, \"foo\": 99}\n",
    "print_params(3, **params)"
   ]
  },
  {
   "cell_type": "markdown",
   "metadata": {},
   "source": [
    "## Übung\n",
    "\n",
    "Vor Python 2.3 musste man die intere Methode `apply` nutzen, um das gerade gesehene umzusetzen. Seit 2.3 ist sie deprecated, in 3 nicht mehr vorhanden.\n",
    "\n",
    "Reimplementiere die `apply(object, args, kwargs)` funktion, sie bekommt eine Liste von Argumenten und ein Dictionary mit Keywordargumenten übergeben und ruft dann die entsprechende Methode auf.\n",
    "\n",
    "Beispiel:\n",
    "```python\n",
    "apply(add, (1, 2), {})  # = add(1, 2) = 3\n",
    "apply(print_params, (1, 2, 3, 4), {\"foo\": \"bar\"}) # = print_params(1, 2, 3, 4, foo=\"bar\") \n",
    "```"
   ]
  },
  {
   "cell_type": "code",
   "execution_count": 78,
   "metadata": {
    "collapsed": true
   },
   "outputs": [],
   "source": [
    "def apply(object, args=(), kwargs={}):\n",
    "    ..."
   ]
  },
  {
   "cell_type": "code",
   "execution_count": 79,
   "metadata": {
    "collapsed": true
   },
   "outputs": [],
   "source": [
    "apply(add, (1, 2))"
   ]
  },
  {
   "cell_type": "code",
   "execution_count": null,
   "metadata": {
    "collapsed": true
   },
   "outputs": [],
   "source": []
  }
 ],
 "metadata": {
  "celltoolbar": "Slideshow",
  "kernelspec": {
   "display_name": "Python 3",
   "language": "python",
   "name": "python3"
  },
  "language_info": {
   "codemirror_mode": {
    "name": "ipython",
    "version": 3
   },
   "file_extension": ".py",
   "mimetype": "text/x-python",
   "name": "python",
   "nbconvert_exporter": "python",
   "pygments_lexer": "ipython3",
   "version": "3.5.0+"
  }
 },
 "nbformat": 4,
 "nbformat_minor": 0
}
